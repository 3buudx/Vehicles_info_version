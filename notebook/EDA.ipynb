{
 "cells": [
  {
   "cell_type": "code",
   "execution_count": 163,
   "metadata": {},
   "outputs": [],
   "source": [
    "import pandas as pd\n",
    "import plotly.express as px\n",
    "import numpy as np\n",
    "import datetime as dt \n",
    "import streamlit as st\n"
   ]
  },
  {
   "cell_type": "code",
   "execution_count": 164,
   "metadata": {},
   "outputs": [
    {
     "name": "stdout",
     "output_type": "stream",
     "text": [
      "<class 'pandas.core.frame.DataFrame'>\n",
      "RangeIndex: 51525 entries, 0 to 51524\n",
      "Data columns (total 13 columns):\n",
      " #   Column        Non-Null Count  Dtype  \n",
      "---  ------        --------------  -----  \n",
      " 0   price         51525 non-null  int64  \n",
      " 1   model_year    47906 non-null  float64\n",
      " 2   model         51525 non-null  object \n",
      " 3   condition     51525 non-null  object \n",
      " 4   cylinders     46265 non-null  float64\n",
      " 5   fuel          51525 non-null  object \n",
      " 6   odometer      43633 non-null  float64\n",
      " 7   transmission  51525 non-null  object \n",
      " 8   type          51525 non-null  object \n",
      " 9   paint_color   42258 non-null  object \n",
      " 10  is_4wd        25572 non-null  float64\n",
      " 11  date_posted   51525 non-null  object \n",
      " 12  days_listed   51525 non-null  int64  \n",
      "dtypes: float64(4), int64(2), object(7)\n",
      "memory usage: 5.1+ MB\n"
     ]
    }
   ],
   "source": [
    "#Reading the Csv file & loading our DataFrame info\n",
    "vehicles_info = pd.read_csv('vehicles_us.csv')\n",
    "vehicles_info.info()"
   ]
  },
  {
   "cell_type": "markdown",
   "metadata": {},
   "source": [
    "1.1 Fixing Data"
   ]
  },
  {
   "cell_type": "code",
   "execution_count": 165,
   "metadata": {},
   "outputs": [
    {
     "name": "stdout",
     "output_type": "stream",
     "text": [
      "price               0\n",
      "model_year       3619\n",
      "model               0\n",
      "condition           0\n",
      "cylinders        5260\n",
      "fuel                0\n",
      "odometer         7892\n",
      "transmission        0\n",
      "type                0\n",
      "paint_color      9267\n",
      "is_4wd          25953\n",
      "date_posted         0\n",
      "days_listed         0\n",
      "dtype: int64\n",
      "<class 'pandas.core.frame.DataFrame'>\n",
      "RangeIndex: 51525 entries, 0 to 51524\n",
      "Data columns (total 13 columns):\n",
      " #   Column        Non-Null Count  Dtype  \n",
      "---  ------        --------------  -----  \n",
      " 0   price         51525 non-null  int64  \n",
      " 1   model_year    51525 non-null  float64\n",
      " 2   model         51525 non-null  object \n",
      " 3   condition     51525 non-null  object \n",
      " 4   cylinders     51525 non-null  float64\n",
      " 5   fuel          51525 non-null  object \n",
      " 6   odometer      51525 non-null  float64\n",
      " 7   transmission  51525 non-null  object \n",
      " 8   type          51525 non-null  object \n",
      " 9   paint_color   51525 non-null  object \n",
      " 10  is_4wd        51525 non-null  float64\n",
      " 11  date_posted   51525 non-null  object \n",
      " 12  days_listed   51525 non-null  int64  \n",
      "dtypes: float64(4), int64(2), object(7)\n",
      "memory usage: 5.1+ MB\n"
     ]
    }
   ],
   "source": [
    "#Checking for missing and fill it \n",
    "print(vehicles_info.isna().sum())\n",
    "#Filling all the missing in vehicle_info DataFrame with 'No info!' in 'paint_color'.\n",
    "vehicles_info['paint_color'] = vehicles_info['paint_color'].fillna('No info!')\n",
    "#filling all numerical missing with 0 \n",
    "vehicles_info = vehicles_info.fillna(0)\n",
    "vehicles_info.info()\n"
   ]
  },
  {
   "cell_type": "code",
   "execution_count": 166,
   "metadata": {},
   "outputs": [
    {
     "name": "stdout",
     "output_type": "stream",
     "text": [
      "0\n"
     ]
    }
   ],
   "source": [
    "#Checking for duplicates in vehicle_info.\n",
    "print(vehicles_info.duplicated().sum())\n",
    "#We have ZERO duplicate in the DataFrame"
   ]
  },
  {
   "cell_type": "code",
   "execution_count": 167,
   "metadata": {},
   "outputs": [
    {
     "name": "stdout",
     "output_type": "stream",
     "text": [
      "<class 'pandas.core.frame.DataFrame'>\n",
      "RangeIndex: 51525 entries, 0 to 51524\n",
      "Data columns (total 13 columns):\n",
      " #   Column        Non-Null Count  Dtype  \n",
      "---  ------        --------------  -----  \n",
      " 0   price         51525 non-null  int64  \n",
      " 1   model_year    51525 non-null  float64\n",
      " 2   model         51525 non-null  object \n",
      " 3   condition     51525 non-null  object \n",
      " 4   cylinders     51525 non-null  float64\n",
      " 5   fuel          51525 non-null  object \n",
      " 6   odometer      51525 non-null  float64\n",
      " 7   transmission  51525 non-null  object \n",
      " 8   type          51525 non-null  object \n",
      " 9   paint_color   51525 non-null  object \n",
      " 10  is_4wd        51525 non-null  float64\n",
      " 11  date_posted   51525 non-null  object \n",
      " 12  days_listed   51525 non-null  int64  \n",
      "dtypes: float64(4), int64(2), object(7)\n",
      "memory usage: 5.1+ MB\n"
     ]
    }
   ],
   "source": [
    "#printing vehicle_info general information to check the Dtype for every column and switch it if needed.\n",
    "vehicles_info.info()\n",
    "#Switching 'model_year' and 'cylinders' and 'is_4wd'Dtype from object and float to int\n",
    "vehicles_info[['model_year', 'cylinders', 'is_4wd']] = vehicles_info[['model_year', 'cylinders', 'is_4wd']].astype(int)\n",
    "#switching 'date_posted' Dtype from object to DateTime\n",
    "vehicles_info['date_posted'] = pd.to_datetime(vehicles_info['date_posted'])\n",
    "#switching 'odometer' Dtype from float to int\n",
    "vehicles_info['odometer'] = vehicles_info['odometer'].astype(int)\n"
   ]
  },
  {
   "cell_type": "code",
   "execution_count": 168,
   "metadata": {},
   "outputs": [
    {
     "name": "stdout",
     "output_type": "stream",
     "text": [
      "                model manufacturer\n",
      "0              bmw x5          bmw\n",
      "1          ford f-150         ford\n",
      "2      hyundai sonata      hyundai\n",
      "3          ford f-150         ford\n",
      "4        chrysler 200     chrysler\n",
      "...               ...          ...\n",
      "51520   nissan maxima       nissan\n",
      "51521     honda civic        honda\n",
      "51522  hyundai sonata      hyundai\n",
      "51523  toyota corolla       toyota\n",
      "51524   nissan altima       nissan\n",
      "\n",
      "[51525 rows x 2 columns]\n"
     ]
    }
   ],
   "source": [
    "#Adding a new column to the dataframe we will call it manufacturer\n",
    "manufacturers = ['bmw', 'ford', 'chrysler', 'nissan', 'dodge', 'chevrolet', \n",
    "                 'toyota', 'honda', 'jeep', 'hyundai', 'gmc', 'kia', \n",
    "                 'subaru', 'volkswagen', 'mercedes', 'ram', 'cadillac', 'acura', 'buick']\n",
    "\n",
    "# Function to extract manufacturer\n",
    "def extract_manufacturer(model_name):\n",
    "    model_name_clean = model_name.strip().lower()  # Clean the model name\n",
    "    for brand in manufacturers:\n",
    "        if brand in model_name_clean:  \n",
    "            return brand  # Return the first matching brand\n",
    "    return 'No info!'  # If no brand is found\n",
    "\n",
    "# Apply function and create the new column\n",
    "vehicles_info['manufacturer'] = vehicles_info['model'].apply(extract_manufacturer)\n",
    "\n",
    "# Print result\n",
    "print(vehicles_info[['model', 'manufacturer']])"
   ]
  },
  {
   "cell_type": "code",
   "execution_count": 169,
   "metadata": {},
   "outputs": [
    {
     "name": "stdout",
     "output_type": "stream",
     "text": [
      "       odometer      h_l_mileage\n",
      "10799     11315  Lower than 100k\n",
      "31105         0  Lower than 100k\n",
      "9160     102374       Above 100k\n",
      "4979     139000       Above 100k\n",
      "38163       105  Lower than 100k\n",
      "14912     49596  Lower than 100k\n",
      "10156     42938  Lower than 100k\n",
      "10079         0  Lower than 100k\n",
      "8315      59016  Lower than 100k\n",
      "35992    107047       Above 100k\n",
      "39522     38648  Lower than 100k\n",
      "37116    195213       Above 100k\n",
      "24675    131507       Above 100k\n",
      "38733    204000       Above 100k\n",
      "6290     107001       Above 100k\n",
      "3967          0  Lower than 100k\n",
      "5613     155123       Above 100k\n",
      "29563    151000       Above 100k\n",
      "672       75000  Lower than 100k\n",
      "49447    120976       Above 100k\n"
     ]
    }
   ],
   "source": [
    "#adding a column for high and low milage.\n",
    "vehicles_info['h_l_mileage'] = ''\n",
    "def high_low(odometer):\n",
    "    if odometer >= 100000:\n",
    "        return 'Above 100k'\n",
    "    elif odometer < 100000:\n",
    "        return 'Lower than 100k'\n",
    "    \n",
    "\n",
    "# Apply the function to the 'odometer' column\n",
    "vehicles_info['h_l_mileage'] = vehicles_info['odometer'].apply(high_low)\n",
    "\n",
    "# Print sample of results\n",
    "print(vehicles_info[['odometer', 'h_l_mileage']].sample(20))\n"
   ]
  },
  {
   "cell_type": "markdown",
   "metadata": {},
   "source": [
    "Making a pivot Table to show Data"
   ]
  },
  {
   "cell_type": "markdown",
   "metadata": {},
   "source": [
    "2.2 Visualization "
   ]
  },
  {
   "cell_type": "code",
   "execution_count": 170,
   "metadata": {},
   "outputs": [
    {
     "name": "stdout",
     "output_type": "stream",
     "text": [
      "                model  model_year\n",
      "0            acura tl         236\n",
      "1              bmw x5         267\n",
      "2       buick enclave         271\n",
      "3   cadillac escalade         322\n",
      "4    chevrolet camaro         414\n",
      "..                ...         ...\n",
      "95      toyota sienna         329\n",
      "96      toyota tacoma         827\n",
      "97      toyota tundra         603\n",
      "98   volkswagen jetta         519\n",
      "99  volkswagen passat         350\n",
      "\n",
      "[100 rows x 2 columns]\n"
     ]
    }
   ],
   "source": [
    "#counting how many cars we do have from the same model\n",
    "models_per_year = vehicles_info[['model_year', 'model']].groupby('model').count().reset_index()\n",
    "print(models_per_year)"
   ]
  },
  {
   "cell_type": "code",
   "execution_count": 171,
   "metadata": {},
   "outputs": [
    {
     "name": "stderr",
     "output_type": "stream",
     "text": [
      "2025-02-08 00:08:54.315 Thread 'MainThread': missing ScriptRunContext! This warning can be ignored when running in bare mode.\n",
      "2025-02-08 00:08:54.317 Thread 'MainThread': missing ScriptRunContext! This warning can be ignored when running in bare mode.\n"
     ]
    },
    {
     "data": {
      "text/plain": [
       "DeltaGenerator()"
      ]
     },
     "execution_count": 171,
     "metadata": {},
     "output_type": "execute_result"
    }
   ],
   "source": [
    "st.header('A :gray[Scatterplot] showing how many cars we do have from the same model.')"
   ]
  },
  {
   "cell_type": "code",
   "execution_count": 172,
   "metadata": {},
   "outputs": [
    {
     "data": {
      "application/vnd.plotly.v1+json": {
       "config": {
        "plotlyServerURL": "https://plot.ly",
        "responsive": false
       },
       "data": [
        {
         "hovertemplate": "Car Model=%{y}<br>Total cars=%{x}<extra></extra>",
         "legendgroup": "acura tl",
         "marker": {
          "color": "#FD3216",
          "symbol": "circle"
         },
         "mode": "markers",
         "name": "acura tl",
         "orientation": "h",
         "showlegend": true,
         "type": "scatter",
         "x": {
          "bdata": "7AA=",
          "dtype": "i2"
         },
         "xaxis": "x",
         "y": [
          "acura tl"
         ],
         "yaxis": "y"
        },
        {
         "hovertemplate": "Car Model=%{y}<br>Total cars=%{x}<extra></extra>",
         "legendgroup": "bmw x5",
         "marker": {
          "color": "#00FE35",
          "symbol": "circle"
         },
         "mode": "markers",
         "name": "bmw x5",
         "orientation": "h",
         "showlegend": true,
         "type": "scatter",
         "x": {
          "bdata": "CwE=",
          "dtype": "i2"
         },
         "xaxis": "x",
         "y": [
          "bmw x5"
         ],
         "yaxis": "y"
        },
        {
         "hovertemplate": "Car Model=%{y}<br>Total cars=%{x}<extra></extra>",
         "legendgroup": "buick enclave",
         "marker": {
          "color": "#6A76FC",
          "symbol": "circle"
         },
         "mode": "markers",
         "name": "buick enclave",
         "orientation": "h",
         "showlegend": true,
         "type": "scatter",
         "x": {
          "bdata": "DwE=",
          "dtype": "i2"
         },
         "xaxis": "x",
         "y": [
          "buick enclave"
         ],
         "yaxis": "y"
        },
        {
         "hovertemplate": "Car Model=%{y}<br>Total cars=%{x}<extra></extra>",
         "legendgroup": "cadillac escalade",
         "marker": {
          "color": "#FED4C4",
          "symbol": "circle"
         },
         "mode": "markers",
         "name": "cadillac escalade",
         "orientation": "h",
         "showlegend": true,
         "type": "scatter",
         "x": {
          "bdata": "QgE=",
          "dtype": "i2"
         },
         "xaxis": "x",
         "y": [
          "cadillac escalade"
         ],
         "yaxis": "y"
        },
        {
         "hovertemplate": "Car Model=%{y}<br>Total cars=%{x}<extra></extra>",
         "legendgroup": "chevrolet camaro",
         "marker": {
          "color": "#FE00CE",
          "symbol": "circle"
         },
         "mode": "markers",
         "name": "chevrolet camaro",
         "orientation": "h",
         "showlegend": true,
         "type": "scatter",
         "x": {
          "bdata": "ngE=",
          "dtype": "i2"
         },
         "xaxis": "x",
         "y": [
          "chevrolet camaro"
         ],
         "yaxis": "y"
        },
        {
         "hovertemplate": "Car Model=%{y}<br>Total cars=%{x}<extra></extra>",
         "legendgroup": "chevrolet camaro lt coupe 2d",
         "marker": {
          "color": "#0DF9FF",
          "symbol": "circle"
         },
         "mode": "markers",
         "name": "chevrolet camaro lt coupe 2d",
         "orientation": "h",
         "showlegend": true,
         "type": "scatter",
         "x": {
          "bdata": "NwE=",
          "dtype": "i2"
         },
         "xaxis": "x",
         "y": [
          "chevrolet camaro lt coupe 2d"
         ],
         "yaxis": "y"
        },
        {
         "hovertemplate": "Car Model=%{y}<br>Total cars=%{x}<extra></extra>",
         "legendgroup": "chevrolet colorado",
         "marker": {
          "color": "#F6F926",
          "symbol": "circle"
         },
         "mode": "markers",
         "name": "chevrolet colorado",
         "orientation": "h",
         "showlegend": true,
         "type": "scatter",
         "x": {
          "bdata": "HgE=",
          "dtype": "i2"
         },
         "xaxis": "x",
         "y": [
          "chevrolet colorado"
         ],
         "yaxis": "y"
        },
        {
         "hovertemplate": "Car Model=%{y}<br>Total cars=%{x}<extra></extra>",
         "legendgroup": "chevrolet corvette",
         "marker": {
          "color": "#FF9616",
          "symbol": "circle"
         },
         "mode": "markers",
         "name": "chevrolet corvette",
         "orientation": "h",
         "showlegend": true,
         "type": "scatter",
         "x": {
          "bdata": "8wE=",
          "dtype": "i2"
         },
         "xaxis": "x",
         "y": [
          "chevrolet corvette"
         ],
         "yaxis": "y"
        },
        {
         "hovertemplate": "Car Model=%{y}<br>Total cars=%{x}<extra></extra>",
         "legendgroup": "chevrolet cruze",
         "marker": {
          "color": "#479B55",
          "symbol": "circle"
         },
         "mode": "markers",
         "name": "chevrolet cruze",
         "orientation": "h",
         "showlegend": true,
         "type": "scatter",
         "x": {
          "bdata": "yQE=",
          "dtype": "i2"
         },
         "xaxis": "x",
         "y": [
          "chevrolet cruze"
         ],
         "yaxis": "y"
        },
        {
         "hovertemplate": "Car Model=%{y}<br>Total cars=%{x}<extra></extra>",
         "legendgroup": "chevrolet equinox",
         "marker": {
          "color": "#EEA6FB",
          "symbol": "circle"
         },
         "mode": "markers",
         "name": "chevrolet equinox",
         "orientation": "h",
         "showlegend": true,
         "type": "scatter",
         "x": {
          "bdata": "TwI=",
          "dtype": "i2"
         },
         "xaxis": "x",
         "y": [
          "chevrolet equinox"
         ],
         "yaxis": "y"
        },
        {
         "hovertemplate": "Car Model=%{y}<br>Total cars=%{x}<extra></extra>",
         "legendgroup": "chevrolet impala",
         "marker": {
          "color": "#DC587D",
          "symbol": "circle"
         },
         "mode": "markers",
         "name": "chevrolet impala",
         "orientation": "h",
         "showlegend": true,
         "type": "scatter",
         "x": {
          "bdata": "ogI=",
          "dtype": "i2"
         },
         "xaxis": "x",
         "y": [
          "chevrolet impala"
         ],
         "yaxis": "y"
        },
        {
         "hovertemplate": "Car Model=%{y}<br>Total cars=%{x}<extra></extra>",
         "legendgroup": "chevrolet malibu",
         "marker": {
          "color": "#D626FF",
          "symbol": "circle"
         },
         "mode": "markers",
         "name": "chevrolet malibu",
         "orientation": "h",
         "showlegend": true,
         "type": "scatter",
         "x": {
          "bdata": "aQI=",
          "dtype": "i2"
         },
         "xaxis": "x",
         "y": [
          "chevrolet malibu"
         ],
         "yaxis": "y"
        },
        {
         "hovertemplate": "Car Model=%{y}<br>Total cars=%{x}<extra></extra>",
         "legendgroup": "chevrolet silverado",
         "marker": {
          "color": "#6E899C",
          "symbol": "circle"
         },
         "mode": "markers",
         "name": "chevrolet silverado",
         "orientation": "h",
         "showlegend": true,
         "type": "scatter",
         "x": {
          "bdata": "9wQ=",
          "dtype": "i2"
         },
         "xaxis": "x",
         "y": [
          "chevrolet silverado"
         ],
         "yaxis": "y"
        },
        {
         "hovertemplate": "Car Model=%{y}<br>Total cars=%{x}<extra></extra>",
         "legendgroup": "chevrolet silverado 1500",
         "marker": {
          "color": "#00B5F7",
          "symbol": "circle"
         },
         "mode": "markers",
         "name": "chevrolet silverado 1500",
         "orientation": "h",
         "showlegend": true,
         "type": "scatter",
         "x": {
          "bdata": "ewg=",
          "dtype": "i2"
         },
         "xaxis": "x",
         "y": [
          "chevrolet silverado 1500"
         ],
         "yaxis": "y"
        },
        {
         "hovertemplate": "Car Model=%{y}<br>Total cars=%{x}<extra></extra>",
         "legendgroup": "chevrolet silverado 1500 crew",
         "marker": {
          "color": "#B68E00",
          "symbol": "circle"
         },
         "mode": "markers",
         "name": "chevrolet silverado 1500 crew",
         "orientation": "h",
         "showlegend": true,
         "type": "scatter",
         "x": {
          "bdata": "LwE=",
          "dtype": "i2"
         },
         "xaxis": "x",
         "y": [
          "chevrolet silverado 1500 crew"
         ],
         "yaxis": "y"
        },
        {
         "hovertemplate": "Car Model=%{y}<br>Total cars=%{x}<extra></extra>",
         "legendgroup": "chevrolet silverado 2500hd",
         "marker": {
          "color": "#C9FBE5",
          "symbol": "circle"
         },
         "mode": "markers",
         "name": "chevrolet silverado 2500hd",
         "orientation": "h",
         "showlegend": true,
         "type": "scatter",
         "x": {
          "bdata": "kwM=",
          "dtype": "i2"
         },
         "xaxis": "x",
         "y": [
          "chevrolet silverado 2500hd"
         ],
         "yaxis": "y"
        },
        {
         "hovertemplate": "Car Model=%{y}<br>Total cars=%{x}<extra></extra>",
         "legendgroup": "chevrolet silverado 3500hd",
         "marker": {
          "color": "#FF0092",
          "symbol": "circle"
         },
         "mode": "markers",
         "name": "chevrolet silverado 3500hd",
         "orientation": "h",
         "showlegend": true,
         "type": "scatter",
         "x": {
          "bdata": "8wA=",
          "dtype": "i2"
         },
         "xaxis": "x",
         "y": [
          "chevrolet silverado 3500hd"
         ],
         "yaxis": "y"
        },
        {
         "hovertemplate": "Car Model=%{y}<br>Total cars=%{x}<extra></extra>",
         "legendgroup": "chevrolet suburban",
         "marker": {
          "color": "#22FFA7",
          "symbol": "circle"
         },
         "mode": "markers",
         "name": "chevrolet suburban",
         "orientation": "h",
         "showlegend": true,
         "type": "scatter",
         "x": {
          "bdata": "MgI=",
          "dtype": "i2"
         },
         "xaxis": "x",
         "y": [
          "chevrolet suburban"
         ],
         "yaxis": "y"
        },
        {
         "hovertemplate": "Car Model=%{y}<br>Total cars=%{x}<extra></extra>",
         "legendgroup": "chevrolet tahoe",
         "marker": {
          "color": "#E3EE9E",
          "symbol": "circle"
         },
         "mode": "markers",
         "name": "chevrolet tahoe",
         "orientation": "h",
         "showlegend": true,
         "type": "scatter",
         "x": {
          "bdata": "yQI=",
          "dtype": "i2"
         },
         "xaxis": "x",
         "y": [
          "chevrolet tahoe"
         ],
         "yaxis": "y"
        },
        {
         "hovertemplate": "Car Model=%{y}<br>Total cars=%{x}<extra></extra>",
         "legendgroup": "chevrolet trailblazer",
         "marker": {
          "color": "#86CE00",
          "symbol": "circle"
         },
         "mode": "markers",
         "name": "chevrolet trailblazer",
         "orientation": "h",
         "showlegend": true,
         "type": "scatter",
         "x": {
          "bdata": "/wA=",
          "dtype": "i2"
         },
         "xaxis": "x",
         "y": [
          "chevrolet trailblazer"
         ],
         "yaxis": "y"
        },
        {
         "hovertemplate": "Car Model=%{y}<br>Total cars=%{x}<extra></extra>",
         "legendgroup": "chevrolet traverse",
         "marker": {
          "color": "#BC7196",
          "symbol": "circle"
         },
         "mode": "markers",
         "name": "chevrolet traverse",
         "orientation": "h",
         "showlegend": true,
         "type": "scatter",
         "x": {
          "bdata": "SQE=",
          "dtype": "i2"
         },
         "xaxis": "x",
         "y": [
          "chevrolet traverse"
         ],
         "yaxis": "y"
        },
        {
         "hovertemplate": "Car Model=%{y}<br>Total cars=%{x}<extra></extra>",
         "legendgroup": "chrysler 200",
         "marker": {
          "color": "#7E7DCD",
          "symbol": "circle"
         },
         "mode": "markers",
         "name": "chrysler 200",
         "orientation": "h",
         "showlegend": true,
         "type": "scatter",
         "x": {
          "bdata": "8wA=",
          "dtype": "i2"
         },
         "xaxis": "x",
         "y": [
          "chrysler 200"
         ],
         "yaxis": "y"
        },
        {
         "hovertemplate": "Car Model=%{y}<br>Total cars=%{x}<extra></extra>",
         "legendgroup": "chrysler 300",
         "marker": {
          "color": "#FC6955",
          "symbol": "circle"
         },
         "mode": "markers",
         "name": "chrysler 300",
         "orientation": "h",
         "showlegend": true,
         "type": "scatter",
         "x": {
          "bdata": "PAE=",
          "dtype": "i2"
         },
         "xaxis": "x",
         "y": [
          "chrysler 300"
         ],
         "yaxis": "y"
        },
        {
         "hovertemplate": "Car Model=%{y}<br>Total cars=%{x}<extra></extra>",
         "legendgroup": "chrysler town & country",
         "marker": {
          "color": "#E48F72",
          "symbol": "circle"
         },
         "mode": "markers",
         "name": "chrysler town & country",
         "orientation": "h",
         "showlegend": true,
         "type": "scatter",
         "x": {
          "bdata": "FwE=",
          "dtype": "i2"
         },
         "xaxis": "x",
         "y": [
          "chrysler town & country"
         ],
         "yaxis": "y"
        },
        {
         "hovertemplate": "Car Model=%{y}<br>Total cars=%{x}<extra></extra>",
         "legendgroup": "dodge charger",
         "marker": {
          "color": "#FD3216",
          "symbol": "circle"
         },
         "mode": "markers",
         "name": "dodge charger",
         "orientation": "h",
         "showlegend": true,
         "type": "scatter",
         "x": {
          "bdata": "nwE=",
          "dtype": "i2"
         },
         "xaxis": "x",
         "y": [
          "dodge charger"
         ],
         "yaxis": "y"
        },
        {
         "hovertemplate": "Car Model=%{y}<br>Total cars=%{x}<extra></extra>",
         "legendgroup": "dodge dakota",
         "marker": {
          "color": "#00FE35",
          "symbol": "circle"
         },
         "mode": "markers",
         "name": "dodge dakota",
         "orientation": "h",
         "showlegend": true,
         "type": "scatter",
         "x": {
          "bdata": "8gA=",
          "dtype": "i2"
         },
         "xaxis": "x",
         "y": [
          "dodge dakota"
         ],
         "yaxis": "y"
        },
        {
         "hovertemplate": "Car Model=%{y}<br>Total cars=%{x}<extra></extra>",
         "legendgroup": "dodge grand caravan",
         "marker": {
          "color": "#6A76FC",
          "symbol": "circle"
         },
         "mode": "markers",
         "name": "dodge grand caravan",
         "orientation": "h",
         "showlegend": true,
         "type": "scatter",
         "x": {
          "bdata": "VgI=",
          "dtype": "i2"
         },
         "xaxis": "x",
         "y": [
          "dodge grand caravan"
         ],
         "yaxis": "y"
        },
        {
         "hovertemplate": "Car Model=%{y}<br>Total cars=%{x}<extra></extra>",
         "legendgroup": "ford econoline",
         "marker": {
          "color": "#FED4C4",
          "symbol": "circle"
         },
         "mode": "markers",
         "name": "ford econoline",
         "orientation": "h",
         "showlegend": true,
         "type": "scatter",
         "x": {
          "bdata": "KAE=",
          "dtype": "i2"
         },
         "xaxis": "x",
         "y": [
          "ford econoline"
         ],
         "yaxis": "y"
        },
        {
         "hovertemplate": "Car Model=%{y}<br>Total cars=%{x}<extra></extra>",
         "legendgroup": "ford edge",
         "marker": {
          "color": "#FE00CE",
          "symbol": "circle"
         },
         "mode": "markers",
         "name": "ford edge",
         "orientation": "h",
         "showlegend": true,
         "type": "scatter",
         "x": {
          "bdata": "fwE=",
          "dtype": "i2"
         },
         "xaxis": "x",
         "y": [
          "ford edge"
         ],
         "yaxis": "y"
        },
        {
         "hovertemplate": "Car Model=%{y}<br>Total cars=%{x}<extra></extra>",
         "legendgroup": "ford escape",
         "marker": {
          "color": "#0DF9FF",
          "symbol": "circle"
         },
         "mode": "markers",
         "name": "ford escape",
         "orientation": "h",
         "showlegend": true,
         "type": "scatter",
         "x": {
          "bdata": "SQM=",
          "dtype": "i2"
         },
         "xaxis": "x",
         "y": [
          "ford escape"
         ],
         "yaxis": "y"
        },
        {
         "hovertemplate": "Car Model=%{y}<br>Total cars=%{x}<extra></extra>",
         "legendgroup": "ford expedition",
         "marker": {
          "color": "#F6F926",
          "symbol": "circle"
         },
         "mode": "markers",
         "name": "ford expedition",
         "orientation": "h",
         "showlegend": true,
         "type": "scatter",
         "x": {
          "bdata": "dAE=",
          "dtype": "i2"
         },
         "xaxis": "x",
         "y": [
          "ford expedition"
         ],
         "yaxis": "y"
        },
        {
         "hovertemplate": "Car Model=%{y}<br>Total cars=%{x}<extra></extra>",
         "legendgroup": "ford explorer",
         "marker": {
          "color": "#FF9616",
          "symbol": "circle"
         },
         "mode": "markers",
         "name": "ford explorer",
         "orientation": "h",
         "showlegend": true,
         "type": "scatter",
         "x": {
          "bdata": "TwM=",
          "dtype": "i2"
         },
         "xaxis": "x",
         "y": [
          "ford explorer"
         ],
         "yaxis": "y"
        },
        {
         "hovertemplate": "Car Model=%{y}<br>Total cars=%{x}<extra></extra>",
         "legendgroup": "ford f-150",
         "marker": {
          "color": "#479B55",
          "symbol": "circle"
         },
         "mode": "markers",
         "name": "ford f-150",
         "orientation": "h",
         "showlegend": true,
         "type": "scatter",
         "x": {
          "bdata": "7Ao=",
          "dtype": "i2"
         },
         "xaxis": "x",
         "y": [
          "ford f-150"
         ],
         "yaxis": "y"
        },
        {
         "hovertemplate": "Car Model=%{y}<br>Total cars=%{x}<extra></extra>",
         "legendgroup": "ford f-250",
         "marker": {
          "color": "#EEA6FB",
          "symbol": "circle"
         },
         "mode": "markers",
         "name": "ford f-250",
         "orientation": "h",
         "showlegend": true,
         "type": "scatter",
         "x": {
          "bdata": "pgE=",
          "dtype": "i2"
         },
         "xaxis": "x",
         "y": [
          "ford f-250"
         ],
         "yaxis": "y"
        },
        {
         "hovertemplate": "Car Model=%{y}<br>Total cars=%{x}<extra></extra>",
         "legendgroup": "ford f-250 sd",
         "marker": {
          "color": "#DC587D",
          "symbol": "circle"
         },
         "mode": "markers",
         "name": "ford f-250 sd",
         "orientation": "h",
         "showlegend": true,
         "type": "scatter",
         "x": {
          "bdata": "qgE=",
          "dtype": "i2"
         },
         "xaxis": "x",
         "y": [
          "ford f-250 sd"
         ],
         "yaxis": "y"
        },
        {
         "hovertemplate": "Car Model=%{y}<br>Total cars=%{x}<extra></extra>",
         "legendgroup": "ford f-250 super duty",
         "marker": {
          "color": "#D626FF",
          "symbol": "circle"
         },
         "mode": "markers",
         "name": "ford f-250 super duty",
         "orientation": "h",
         "showlegend": true,
         "type": "scatter",
         "x": {
          "bdata": "8QA=",
          "dtype": "i2"
         },
         "xaxis": "x",
         "y": [
          "ford f-250 super duty"
         ],
         "yaxis": "y"
        },
        {
         "hovertemplate": "Car Model=%{y}<br>Total cars=%{x}<extra></extra>",
         "legendgroup": "ford f-350 sd",
         "marker": {
          "color": "#6E899C",
          "symbol": "circle"
         },
         "mode": "markers",
         "name": "ford f-350 sd",
         "orientation": "h",
         "showlegend": true,
         "type": "scatter",
         "x": {
          "bdata": "JwE=",
          "dtype": "i2"
         },
         "xaxis": "x",
         "y": [
          "ford f-350 sd"
         ],
         "yaxis": "y"
        },
        {
         "hovertemplate": "Car Model=%{y}<br>Total cars=%{x}<extra></extra>",
         "legendgroup": "ford f150",
         "marker": {
          "color": "#00B5F7",
          "symbol": "circle"
         },
         "mode": "markers",
         "name": "ford f150",
         "orientation": "h",
         "showlegend": true,
         "type": "scatter",
         "x": {
          "bdata": "EgI=",
          "dtype": "i2"
         },
         "xaxis": "x",
         "y": [
          "ford f150"
         ],
         "yaxis": "y"
        },
        {
         "hovertemplate": "Car Model=%{y}<br>Total cars=%{x}<extra></extra>",
         "legendgroup": "ford f150 supercrew cab xlt",
         "marker": {
          "color": "#B68E00",
          "symbol": "circle"
         },
         "mode": "markers",
         "name": "ford f150 supercrew cab xlt",
         "orientation": "h",
         "showlegend": true,
         "type": "scatter",
         "x": {
          "bdata": "RwE=",
          "dtype": "i2"
         },
         "xaxis": "x",
         "y": [
          "ford f150 supercrew cab xlt"
         ],
         "yaxis": "y"
        },
        {
         "hovertemplate": "Car Model=%{y}<br>Total cars=%{x}<extra></extra>",
         "legendgroup": "ford f250",
         "marker": {
          "color": "#C9FBE5",
          "symbol": "circle"
         },
         "mode": "markers",
         "name": "ford f250",
         "orientation": "h",
         "showlegend": true,
         "type": "scatter",
         "x": {
          "bdata": "UwE=",
          "dtype": "i2"
         },
         "xaxis": "x",
         "y": [
          "ford f250"
         ],
         "yaxis": "y"
        },
        {
         "hovertemplate": "Car Model=%{y}<br>Total cars=%{x}<extra></extra>",
         "legendgroup": "ford f250 super duty",
         "marker": {
          "color": "#FF0092",
          "symbol": "circle"
         },
         "mode": "markers",
         "name": "ford f250 super duty",
         "orientation": "h",
         "showlegend": true,
         "type": "scatter",
         "x": {
          "bdata": "cgE=",
          "dtype": "i2"
         },
         "xaxis": "x",
         "y": [
          "ford f250 super duty"
         ],
         "yaxis": "y"
        },
        {
         "hovertemplate": "Car Model=%{y}<br>Total cars=%{x}<extra></extra>",
         "legendgroup": "ford f350",
         "marker": {
          "color": "#22FFA7",
          "symbol": "circle"
         },
         "mode": "markers",
         "name": "ford f350",
         "orientation": "h",
         "showlegend": true,
         "type": "scatter",
         "x": {
          "bdata": "+gA=",
          "dtype": "i2"
         },
         "xaxis": "x",
         "y": [
          "ford f350"
         ],
         "yaxis": "y"
        },
        {
         "hovertemplate": "Car Model=%{y}<br>Total cars=%{x}<extra></extra>",
         "legendgroup": "ford f350 super duty",
         "marker": {
          "color": "#E3EE9E",
          "symbol": "circle"
         },
         "mode": "markers",
         "name": "ford f350 super duty",
         "orientation": "h",
         "showlegend": true,
         "type": "scatter",
         "x": {
          "bdata": "9gA=",
          "dtype": "i2"
         },
         "xaxis": "x",
         "y": [
          "ford f350 super duty"
         ],
         "yaxis": "y"
        },
        {
         "hovertemplate": "Car Model=%{y}<br>Total cars=%{x}<extra></extra>",
         "legendgroup": "ford focus",
         "marker": {
          "color": "#86CE00",
          "symbol": "circle"
         },
         "mode": "markers",
         "name": "ford focus",
         "orientation": "h",
         "showlegend": true,
         "type": "scatter",
         "x": {
          "bdata": "8gI=",
          "dtype": "i2"
         },
         "xaxis": "x",
         "y": [
          "ford focus"
         ],
         "yaxis": "y"
        },
        {
         "hovertemplate": "Car Model=%{y}<br>Total cars=%{x}<extra></extra>",
         "legendgroup": "ford focus se",
         "marker": {
          "color": "#BC7196",
          "symbol": "circle"
         },
         "mode": "markers",
         "name": "ford focus se",
         "orientation": "h",
         "showlegend": true,
         "type": "scatter",
         "x": {
          "bdata": "eAE=",
          "dtype": "i2"
         },
         "xaxis": "x",
         "y": [
          "ford focus se"
         ],
         "yaxis": "y"
        },
        {
         "hovertemplate": "Car Model=%{y}<br>Total cars=%{x}<extra></extra>",
         "legendgroup": "ford fusion",
         "marker": {
          "color": "#7E7DCD",
          "symbol": "circle"
         },
         "mode": "markers",
         "name": "ford fusion",
         "orientation": "h",
         "showlegend": true,
         "type": "scatter",
         "x": {
          "bdata": "IAI=",
          "dtype": "i2"
         },
         "xaxis": "x",
         "y": [
          "ford fusion"
         ],
         "yaxis": "y"
        },
        {
         "hovertemplate": "Car Model=%{y}<br>Total cars=%{x}<extra></extra>",
         "legendgroup": "ford fusion se",
         "marker": {
          "color": "#FC6955",
          "symbol": "circle"
         },
         "mode": "markers",
         "name": "ford fusion se",
         "orientation": "h",
         "showlegend": true,
         "type": "scatter",
         "x": {
          "bdata": "NQE=",
          "dtype": "i2"
         },
         "xaxis": "x",
         "y": [
          "ford fusion se"
         ],
         "yaxis": "y"
        },
        {
         "hovertemplate": "Car Model=%{y}<br>Total cars=%{x}<extra></extra>",
         "legendgroup": "ford mustang",
         "marker": {
          "color": "#E48F72",
          "symbol": "circle"
         },
         "mode": "markers",
         "name": "ford mustang",
         "orientation": "h",
         "showlegend": true,
         "type": "scatter",
         "x": {
          "bdata": "qQI=",
          "dtype": "i2"
         },
         "xaxis": "x",
         "y": [
          "ford mustang"
         ],
         "yaxis": "y"
        },
        {
         "hovertemplate": "Car Model=%{y}<br>Total cars=%{x}<extra></extra>",
         "legendgroup": "ford mustang gt coupe 2d",
         "marker": {
          "color": "#FD3216",
          "symbol": "circle"
         },
         "mode": "markers",
         "name": "ford mustang gt coupe 2d",
         "orientation": "h",
         "showlegend": true,
         "type": "scatter",
         "x": {
          "bdata": "LQE=",
          "dtype": "i2"
         },
         "xaxis": "x",
         "y": [
          "ford mustang gt coupe 2d"
         ],
         "yaxis": "y"
        },
        {
         "hovertemplate": "Car Model=%{y}<br>Total cars=%{x}<extra></extra>",
         "legendgroup": "ford ranger",
         "marker": {
          "color": "#00FE35",
          "symbol": "circle"
         },
         "mode": "markers",
         "name": "ford ranger",
         "orientation": "h",
         "showlegend": true,
         "type": "scatter",
         "x": {
          "bdata": "pwE=",
          "dtype": "i2"
         },
         "xaxis": "x",
         "y": [
          "ford ranger"
         ],
         "yaxis": "y"
        },
        {
         "hovertemplate": "Car Model=%{y}<br>Total cars=%{x}<extra></extra>",
         "legendgroup": "ford taurus",
         "marker": {
          "color": "#6A76FC",
          "symbol": "circle"
         },
         "mode": "markers",
         "name": "ford taurus",
         "orientation": "h",
         "showlegend": true,
         "type": "scatter",
         "x": {
          "bdata": "LwE=",
          "dtype": "i2"
         },
         "xaxis": "x",
         "y": [
          "ford taurus"
         ],
         "yaxis": "y"
        },
        {
         "hovertemplate": "Car Model=%{y}<br>Total cars=%{x}<extra></extra>",
         "legendgroup": "gmc acadia",
         "marker": {
          "color": "#FED4C4",
          "symbol": "circle"
         },
         "mode": "markers",
         "name": "gmc acadia",
         "orientation": "h",
         "showlegend": true,
         "type": "scatter",
         "x": {
          "bdata": "OwE=",
          "dtype": "i2"
         },
         "xaxis": "x",
         "y": [
          "gmc acadia"
         ],
         "yaxis": "y"
        },
        {
         "hovertemplate": "Car Model=%{y}<br>Total cars=%{x}<extra></extra>",
         "legendgroup": "gmc sierra",
         "marker": {
          "color": "#FE00CE",
          "symbol": "circle"
         },
         "mode": "markers",
         "name": "gmc sierra",
         "orientation": "h",
         "showlegend": true,
         "type": "scatter",
         "x": {
          "bdata": "hAE=",
          "dtype": "i2"
         },
         "xaxis": "x",
         "y": [
          "gmc sierra"
         ],
         "yaxis": "y"
        },
        {
         "hovertemplate": "Car Model=%{y}<br>Total cars=%{x}<extra></extra>",
         "legendgroup": "gmc sierra 1500",
         "marker": {
          "color": "#0DF9FF",
          "symbol": "circle"
         },
         "mode": "markers",
         "name": "gmc sierra 1500",
         "orientation": "h",
         "showlegend": true,
         "type": "scatter",
         "x": {
          "bdata": "igM=",
          "dtype": "i2"
         },
         "xaxis": "x",
         "y": [
          "gmc sierra 1500"
         ],
         "yaxis": "y"
        },
        {
         "hovertemplate": "Car Model=%{y}<br>Total cars=%{x}<extra></extra>",
         "legendgroup": "gmc sierra 2500hd",
         "marker": {
          "color": "#F6F926",
          "symbol": "circle"
         },
         "mode": "markers",
         "name": "gmc sierra 2500hd",
         "orientation": "h",
         "showlegend": true,
         "type": "scatter",
         "x": {
          "bdata": "tgE=",
          "dtype": "i2"
         },
         "xaxis": "x",
         "y": [
          "gmc sierra 2500hd"
         ],
         "yaxis": "y"
        },
        {
         "hovertemplate": "Car Model=%{y}<br>Total cars=%{x}<extra></extra>",
         "legendgroup": "gmc yukon",
         "marker": {
          "color": "#FF9616",
          "symbol": "circle"
         },
         "mode": "markers",
         "name": "gmc yukon",
         "orientation": "h",
         "showlegend": true,
         "type": "scatter",
         "x": {
          "bdata": "SwE=",
          "dtype": "i2"
         },
         "xaxis": "x",
         "y": [
          "gmc yukon"
         ],
         "yaxis": "y"
        },
        {
         "hovertemplate": "Car Model=%{y}<br>Total cars=%{x}<extra></extra>",
         "legendgroup": "honda accord",
         "marker": {
          "color": "#479B55",
          "symbol": "circle"
         },
         "mode": "markers",
         "name": "honda accord",
         "orientation": "h",
         "showlegend": true,
         "type": "scatter",
         "x": {
          "bdata": "xAM=",
          "dtype": "i2"
         },
         "xaxis": "x",
         "y": [
          "honda accord"
         ],
         "yaxis": "y"
        },
        {
         "hovertemplate": "Car Model=%{y}<br>Total cars=%{x}<extra></extra>",
         "legendgroup": "honda civic",
         "marker": {
          "color": "#EEA6FB",
          "symbol": "circle"
         },
         "mode": "markers",
         "name": "honda civic",
         "orientation": "h",
         "showlegend": true,
         "type": "scatter",
         "x": {
          "bdata": "LwM=",
          "dtype": "i2"
         },
         "xaxis": "x",
         "y": [
          "honda civic"
         ],
         "yaxis": "y"
        },
        {
         "hovertemplate": "Car Model=%{y}<br>Total cars=%{x}<extra></extra>",
         "legendgroup": "honda civic lx",
         "marker": {
          "color": "#DC587D",
          "symbol": "circle"
         },
         "mode": "markers",
         "name": "honda civic lx",
         "orientation": "h",
         "showlegend": true,
         "type": "scatter",
         "x": {
          "bdata": "BgE=",
          "dtype": "i2"
         },
         "xaxis": "x",
         "y": [
          "honda civic lx"
         ],
         "yaxis": "y"
        },
        {
         "hovertemplate": "Car Model=%{y}<br>Total cars=%{x}<extra></extra>",
         "legendgroup": "honda cr-v",
         "marker": {
          "color": "#D626FF",
          "symbol": "circle"
         },
         "mode": "markers",
         "name": "honda cr-v",
         "orientation": "h",
         "showlegend": true,
         "type": "scatter",
         "x": {
          "bdata": "rQI=",
          "dtype": "i2"
         },
         "xaxis": "x",
         "y": [
          "honda cr-v"
         ],
         "yaxis": "y"
        },
        {
         "hovertemplate": "Car Model=%{y}<br>Total cars=%{x}<extra></extra>",
         "legendgroup": "honda odyssey",
         "marker": {
          "color": "#6E899C",
          "symbol": "circle"
         },
         "mode": "markers",
         "name": "honda odyssey",
         "orientation": "h",
         "showlegend": true,
         "type": "scatter",
         "x": {
          "bdata": "yQE=",
          "dtype": "i2"
         },
         "xaxis": "x",
         "y": [
          "honda odyssey"
         ],
         "yaxis": "y"
        },
        {
         "hovertemplate": "Car Model=%{y}<br>Total cars=%{x}<extra></extra>",
         "legendgroup": "honda pilot",
         "marker": {
          "color": "#00B5F7",
          "symbol": "circle"
         },
         "mode": "markers",
         "name": "honda pilot",
         "orientation": "h",
         "showlegend": true,
         "type": "scatter",
         "x": {
          "bdata": "LgE=",
          "dtype": "i2"
         },
         "xaxis": "x",
         "y": [
          "honda pilot"
         ],
         "yaxis": "y"
        },
        {
         "hovertemplate": "Car Model=%{y}<br>Total cars=%{x}<extra></extra>",
         "legendgroup": "hyundai elantra",
         "marker": {
          "color": "#B68E00",
          "symbol": "circle"
         },
         "mode": "markers",
         "name": "hyundai elantra",
         "orientation": "h",
         "showlegend": true,
         "type": "scatter",
         "x": {
          "bdata": "pwE=",
          "dtype": "i2"
         },
         "xaxis": "x",
         "y": [
          "hyundai elantra"
         ],
         "yaxis": "y"
        },
        {
         "hovertemplate": "Car Model=%{y}<br>Total cars=%{x}<extra></extra>",
         "legendgroup": "hyundai santa fe",
         "marker": {
          "color": "#C9FBE5",
          "symbol": "circle"
         },
         "mode": "markers",
         "name": "hyundai santa fe",
         "orientation": "h",
         "showlegend": true,
         "type": "scatter",
         "x": {
          "bdata": "EQE=",
          "dtype": "i2"
         },
         "xaxis": "x",
         "y": [
          "hyundai santa fe"
         ],
         "yaxis": "y"
        },
        {
         "hovertemplate": "Car Model=%{y}<br>Total cars=%{x}<extra></extra>",
         "legendgroup": "hyundai sonata",
         "marker": {
          "color": "#FF0092",
          "symbol": "circle"
         },
         "mode": "markers",
         "name": "hyundai sonata",
         "orientation": "h",
         "showlegend": true,
         "type": "scatter",
         "x": {
          "bdata": "3QE=",
          "dtype": "i2"
         },
         "xaxis": "x",
         "y": [
          "hyundai sonata"
         ],
         "yaxis": "y"
        },
        {
         "hovertemplate": "Car Model=%{y}<br>Total cars=%{x}<extra></extra>",
         "legendgroup": "jeep cherokee",
         "marker": {
          "color": "#22FFA7",
          "symbol": "circle"
         },
         "mode": "markers",
         "name": "jeep cherokee",
         "orientation": "h",
         "showlegend": true,
         "type": "scatter",
         "x": {
          "bdata": "JQE=",
          "dtype": "i2"
         },
         "xaxis": "x",
         "y": [
          "jeep cherokee"
         ],
         "yaxis": "y"
        },
        {
         "hovertemplate": "Car Model=%{y}<br>Total cars=%{x}<extra></extra>",
         "legendgroup": "jeep grand cherokee",
         "marker": {
          "color": "#E3EE9E",
          "symbol": "circle"
         },
         "mode": "markers",
         "name": "jeep grand cherokee",
         "orientation": "h",
         "showlegend": true,
         "type": "scatter",
         "x": {
          "bdata": "JgM=",
          "dtype": "i2"
         },
         "xaxis": "x",
         "y": [
          "jeep grand cherokee"
         ],
         "yaxis": "y"
        },
        {
         "hovertemplate": "Car Model=%{y}<br>Total cars=%{x}<extra></extra>",
         "legendgroup": "jeep grand cherokee laredo",
         "marker": {
          "color": "#86CE00",
          "symbol": "circle"
         },
         "mode": "markers",
         "name": "jeep grand cherokee laredo",
         "orientation": "h",
         "showlegend": true,
         "type": "scatter",
         "x": {
          "bdata": "AAE=",
          "dtype": "i2"
         },
         "xaxis": "x",
         "y": [
          "jeep grand cherokee laredo"
         ],
         "yaxis": "y"
        },
        {
         "hovertemplate": "Car Model=%{y}<br>Total cars=%{x}<extra></extra>",
         "legendgroup": "jeep liberty",
         "marker": {
          "color": "#BC7196",
          "symbol": "circle"
         },
         "mode": "markers",
         "name": "jeep liberty",
         "orientation": "h",
         "showlegend": true,
         "type": "scatter",
         "x": {
          "bdata": "YwE=",
          "dtype": "i2"
         },
         "xaxis": "x",
         "y": [
          "jeep liberty"
         ],
         "yaxis": "y"
        },
        {
         "hovertemplate": "Car Model=%{y}<br>Total cars=%{x}<extra></extra>",
         "legendgroup": "jeep wrangler",
         "marker": {
          "color": "#7E7DCD",
          "symbol": "circle"
         },
         "mode": "markers",
         "name": "jeep wrangler",
         "orientation": "h",
         "showlegend": true,
         "type": "scatter",
         "x": {
          "bdata": "XwQ=",
          "dtype": "i2"
         },
         "xaxis": "x",
         "y": [
          "jeep wrangler"
         ],
         "yaxis": "y"
        },
        {
         "hovertemplate": "Car Model=%{y}<br>Total cars=%{x}<extra></extra>",
         "legendgroup": "jeep wrangler unlimited",
         "marker": {
          "color": "#FC6955",
          "symbol": "circle"
         },
         "mode": "markers",
         "name": "jeep wrangler unlimited",
         "orientation": "h",
         "showlegend": true,
         "type": "scatter",
         "x": {
          "bdata": "xAE=",
          "dtype": "i2"
         },
         "xaxis": "x",
         "y": [
          "jeep wrangler unlimited"
         ],
         "yaxis": "y"
        },
        {
         "hovertemplate": "Car Model=%{y}<br>Total cars=%{x}<extra></extra>",
         "legendgroup": "kia sorento",
         "marker": {
          "color": "#E48F72",
          "symbol": "circle"
         },
         "mode": "markers",
         "name": "kia sorento",
         "orientation": "h",
         "showlegend": true,
         "type": "scatter",
         "x": {
          "bdata": "7AA=",
          "dtype": "i2"
         },
         "xaxis": "x",
         "y": [
          "kia sorento"
         ],
         "yaxis": "y"
        },
        {
         "hovertemplate": "Car Model=%{y}<br>Total cars=%{x}<extra></extra>",
         "legendgroup": "kia soul",
         "marker": {
          "color": "#FD3216",
          "symbol": "circle"
         },
         "mode": "markers",
         "name": "kia soul",
         "orientation": "h",
         "showlegend": true,
         "type": "scatter",
         "x": {
          "bdata": "XQE=",
          "dtype": "i2"
         },
         "xaxis": "x",
         "y": [
          "kia soul"
         ],
         "yaxis": "y"
        },
        {
         "hovertemplate": "Car Model=%{y}<br>Total cars=%{x}<extra></extra>",
         "legendgroup": "mercedes-benz benze sprinter 2500",
         "marker": {
          "color": "#00FE35",
          "symbol": "circle"
         },
         "mode": "markers",
         "name": "mercedes-benz benze sprinter 2500",
         "orientation": "h",
         "showlegend": true,
         "type": "scatter",
         "x": {
          "bdata": "KQ==",
          "dtype": "i1"
         },
         "xaxis": "x",
         "y": [
          "mercedes-benz benze sprinter 2500"
         ],
         "yaxis": "y"
        },
        {
         "hovertemplate": "Car Model=%{y}<br>Total cars=%{x}<extra></extra>",
         "legendgroup": "nissan altima",
         "marker": {
          "color": "#6A76FC",
          "symbol": "circle"
         },
         "mode": "markers",
         "name": "nissan altima",
         "orientation": "h",
         "showlegend": true,
         "type": "scatter",
         "x": {
          "bdata": "LQM=",
          "dtype": "i2"
         },
         "xaxis": "x",
         "y": [
          "nissan altima"
         ],
         "yaxis": "y"
        },
        {
         "hovertemplate": "Car Model=%{y}<br>Total cars=%{x}<extra></extra>",
         "legendgroup": "nissan frontier",
         "marker": {
          "color": "#FED4C4",
          "symbol": "circle"
         },
         "mode": "markers",
         "name": "nissan frontier",
         "orientation": "h",
         "showlegend": true,
         "type": "scatter",
         "x": {
          "bdata": "GQE=",
          "dtype": "i2"
         },
         "xaxis": "x",
         "y": [
          "nissan frontier"
         ],
         "yaxis": "y"
        },
        {
         "hovertemplate": "Car Model=%{y}<br>Total cars=%{x}<extra></extra>",
         "legendgroup": "nissan frontier crew cab sv",
         "marker": {
          "color": "#FE00CE",
          "symbol": "circle"
         },
         "mode": "markers",
         "name": "nissan frontier crew cab sv",
         "orientation": "h",
         "showlegend": true,
         "type": "scatter",
         "x": {
          "bdata": "WQE=",
          "dtype": "i2"
         },
         "xaxis": "x",
         "y": [
          "nissan frontier crew cab sv"
         ],
         "yaxis": "y"
        },
        {
         "hovertemplate": "Car Model=%{y}<br>Total cars=%{x}<extra></extra>",
         "legendgroup": "nissan maxima",
         "marker": {
          "color": "#0DF9FF",
          "symbol": "circle"
         },
         "mode": "markers",
         "name": "nissan maxima",
         "orientation": "h",
         "showlegend": true,
         "type": "scatter",
         "x": {
          "bdata": "JgE=",
          "dtype": "i2"
         },
         "xaxis": "x",
         "y": [
          "nissan maxima"
         ],
         "yaxis": "y"
        },
        {
         "hovertemplate": "Car Model=%{y}<br>Total cars=%{x}<extra></extra>",
         "legendgroup": "nissan murano",
         "marker": {
          "color": "#F6F926",
          "symbol": "circle"
         },
         "mode": "markers",
         "name": "nissan murano",
         "orientation": "h",
         "showlegend": true,
         "type": "scatter",
         "x": {
          "bdata": "6wA=",
          "dtype": "i2"
         },
         "xaxis": "x",
         "y": [
          "nissan murano"
         ],
         "yaxis": "y"
        },
        {
         "hovertemplate": "Car Model=%{y}<br>Total cars=%{x}<extra></extra>",
         "legendgroup": "nissan rogue",
         "marker": {
          "color": "#FF9616",
          "symbol": "circle"
         },
         "mode": "markers",
         "name": "nissan rogue",
         "orientation": "h",
         "showlegend": true,
         "type": "scatter",
         "x": {
          "bdata": "1QE=",
          "dtype": "i2"
         },
         "xaxis": "x",
         "y": [
          "nissan rogue"
         ],
         "yaxis": "y"
        },
        {
         "hovertemplate": "Car Model=%{y}<br>Total cars=%{x}<extra></extra>",
         "legendgroup": "nissan sentra",
         "marker": {
          "color": "#479B55",
          "symbol": "circle"
         },
         "mode": "markers",
         "name": "nissan sentra",
         "orientation": "h",
         "showlegend": true,
         "type": "scatter",
         "x": {
          "bdata": "8QE=",
          "dtype": "i2"
         },
         "xaxis": "x",
         "y": [
          "nissan sentra"
         ],
         "yaxis": "y"
        },
        {
         "hovertemplate": "Car Model=%{y}<br>Total cars=%{x}<extra></extra>",
         "legendgroup": "nissan versa",
         "marker": {
          "color": "#EEA6FB",
          "symbol": "circle"
         },
         "mode": "markers",
         "name": "nissan versa",
         "orientation": "h",
         "showlegend": true,
         "type": "scatter",
         "x": {
          "bdata": "EgE=",
          "dtype": "i2"
         },
         "xaxis": "x",
         "y": [
          "nissan versa"
         ],
         "yaxis": "y"
        },
        {
         "hovertemplate": "Car Model=%{y}<br>Total cars=%{x}<extra></extra>",
         "legendgroup": "ram 1500",
         "marker": {
          "color": "#DC587D",
          "symbol": "circle"
         },
         "mode": "markers",
         "name": "ram 1500",
         "orientation": "h",
         "showlegend": true,
         "type": "scatter",
         "x": {
          "bdata": "1gY=",
          "dtype": "i2"
         },
         "xaxis": "x",
         "y": [
          "ram 1500"
         ],
         "yaxis": "y"
        },
        {
         "hovertemplate": "Car Model=%{y}<br>Total cars=%{x}<extra></extra>",
         "legendgroup": "ram 2500",
         "marker": {
          "color": "#D626FF",
          "symbol": "circle"
         },
         "mode": "markers",
         "name": "ram 2500",
         "orientation": "h",
         "showlegend": true,
         "type": "scatter",
         "x": {
          "bdata": "QwQ=",
          "dtype": "i2"
         },
         "xaxis": "x",
         "y": [
          "ram 2500"
         ],
         "yaxis": "y"
        },
        {
         "hovertemplate": "Car Model=%{y}<br>Total cars=%{x}<extra></extra>",
         "legendgroup": "ram 3500",
         "marker": {
          "color": "#6E899C",
          "symbol": "circle"
         },
         "mode": "markers",
         "name": "ram 3500",
         "orientation": "h",
         "showlegend": true,
         "type": "scatter",
         "x": {
          "bdata": "2wE=",
          "dtype": "i2"
         },
         "xaxis": "x",
         "y": [
          "ram 3500"
         ],
         "yaxis": "y"
        },
        {
         "hovertemplate": "Car Model=%{y}<br>Total cars=%{x}<extra></extra>",
         "legendgroup": "subaru forester",
         "marker": {
          "color": "#00B5F7",
          "symbol": "circle"
         },
         "mode": "markers",
         "name": "subaru forester",
         "orientation": "h",
         "showlegend": true,
         "type": "scatter",
         "x": {
          "bdata": "5AE=",
          "dtype": "i2"
         },
         "xaxis": "x",
         "y": [
          "subaru forester"
         ],
         "yaxis": "y"
        },
        {
         "hovertemplate": "Car Model=%{y}<br>Total cars=%{x}<extra></extra>",
         "legendgroup": "subaru impreza",
         "marker": {
          "color": "#B68E00",
          "symbol": "circle"
         },
         "mode": "markers",
         "name": "subaru impreza",
         "orientation": "h",
         "showlegend": true,
         "type": "scatter",
         "x": {
          "bdata": "+gA=",
          "dtype": "i2"
         },
         "xaxis": "x",
         "y": [
          "subaru impreza"
         ],
         "yaxis": "y"
        },
        {
         "hovertemplate": "Car Model=%{y}<br>Total cars=%{x}<extra></extra>",
         "legendgroup": "subaru outback",
         "marker": {
          "color": "#C9FBE5",
          "symbol": "circle"
         },
         "mode": "markers",
         "name": "subaru outback",
         "orientation": "h",
         "showlegend": true,
         "type": "scatter",
         "x": {
          "bdata": "GgI=",
          "dtype": "i2"
         },
         "xaxis": "x",
         "y": [
          "subaru outback"
         ],
         "yaxis": "y"
        },
        {
         "hovertemplate": "Car Model=%{y}<br>Total cars=%{x}<extra></extra>",
         "legendgroup": "toyota 4runner",
         "marker": {
          "color": "#FF0092",
          "symbol": "circle"
         },
         "mode": "markers",
         "name": "toyota 4runner",
         "orientation": "h",
         "showlegend": true,
         "type": "scatter",
         "x": {
          "bdata": "xQE=",
          "dtype": "i2"
         },
         "xaxis": "x",
         "y": [
          "toyota 4runner"
         ],
         "yaxis": "y"
        },
        {
         "hovertemplate": "Car Model=%{y}<br>Total cars=%{x}<extra></extra>",
         "legendgroup": "toyota camry",
         "marker": {
          "color": "#22FFA7",
          "symbol": "circle"
         },
         "mode": "markers",
         "name": "toyota camry",
         "orientation": "h",
         "showlegend": true,
         "type": "scatter",
         "x": {
          "bdata": "3gM=",
          "dtype": "i2"
         },
         "xaxis": "x",
         "y": [
          "toyota camry"
         ],
         "yaxis": "y"
        },
        {
         "hovertemplate": "Car Model=%{y}<br>Total cars=%{x}<extra></extra>",
         "legendgroup": "toyota camry le",
         "marker": {
          "color": "#E3EE9E",
          "symbol": "circle"
         },
         "mode": "markers",
         "name": "toyota camry le",
         "orientation": "h",
         "showlegend": true,
         "type": "scatter",
         "x": {
          "bdata": "PAE=",
          "dtype": "i2"
         },
         "xaxis": "x",
         "y": [
          "toyota camry le"
         ],
         "yaxis": "y"
        },
        {
         "hovertemplate": "Car Model=%{y}<br>Total cars=%{x}<extra></extra>",
         "legendgroup": "toyota corolla",
         "marker": {
          "color": "#86CE00",
          "symbol": "circle"
         },
         "mode": "markers",
         "name": "toyota corolla",
         "orientation": "h",
         "showlegend": true,
         "type": "scatter",
         "x": {
          "bdata": "igI=",
          "dtype": "i2"
         },
         "xaxis": "x",
         "y": [
          "toyota corolla"
         ],
         "yaxis": "y"
        },
        {
         "hovertemplate": "Car Model=%{y}<br>Total cars=%{x}<extra></extra>",
         "legendgroup": "toyota highlander",
         "marker": {
          "color": "#BC7196",
          "symbol": "circle"
         },
         "mode": "markers",
         "name": "toyota highlander",
         "orientation": "h",
         "showlegend": true,
         "type": "scatter",
         "x": {
          "bdata": "TgE=",
          "dtype": "i2"
         },
         "xaxis": "x",
         "y": [
          "toyota highlander"
         ],
         "yaxis": "y"
        },
        {
         "hovertemplate": "Car Model=%{y}<br>Total cars=%{x}<extra></extra>",
         "legendgroup": "toyota prius",
         "marker": {
          "color": "#7E7DCD",
          "symbol": "circle"
         },
         "mode": "markers",
         "name": "toyota prius",
         "orientation": "h",
         "showlegend": true,
         "type": "scatter",
         "x": {
          "bdata": "4gE=",
          "dtype": "i2"
         },
         "xaxis": "x",
         "y": [
          "toyota prius"
         ],
         "yaxis": "y"
        },
        {
         "hovertemplate": "Car Model=%{y}<br>Total cars=%{x}<extra></extra>",
         "legendgroup": "toyota rav4",
         "marker": {
          "color": "#FC6955",
          "symbol": "circle"
         },
         "mode": "markers",
         "name": "toyota rav4",
         "orientation": "h",
         "showlegend": true,
         "type": "scatter",
         "x": {
          "bdata": "zQE=",
          "dtype": "i2"
         },
         "xaxis": "x",
         "y": [
          "toyota rav4"
         ],
         "yaxis": "y"
        },
        {
         "hovertemplate": "Car Model=%{y}<br>Total cars=%{x}<extra></extra>",
         "legendgroup": "toyota sienna",
         "marker": {
          "color": "#E48F72",
          "symbol": "circle"
         },
         "mode": "markers",
         "name": "toyota sienna",
         "orientation": "h",
         "showlegend": true,
         "type": "scatter",
         "x": {
          "bdata": "SQE=",
          "dtype": "i2"
         },
         "xaxis": "x",
         "y": [
          "toyota sienna"
         ],
         "yaxis": "y"
        },
        {
         "hovertemplate": "Car Model=%{y}<br>Total cars=%{x}<extra></extra>",
         "legendgroup": "toyota tacoma",
         "marker": {
          "color": "#FD3216",
          "symbol": "circle"
         },
         "mode": "markers",
         "name": "toyota tacoma",
         "orientation": "h",
         "showlegend": true,
         "type": "scatter",
         "x": {
          "bdata": "OwM=",
          "dtype": "i2"
         },
         "xaxis": "x",
         "y": [
          "toyota tacoma"
         ],
         "yaxis": "y"
        },
        {
         "hovertemplate": "Car Model=%{y}<br>Total cars=%{x}<extra></extra>",
         "legendgroup": "toyota tundra",
         "marker": {
          "color": "#00FE35",
          "symbol": "circle"
         },
         "mode": "markers",
         "name": "toyota tundra",
         "orientation": "h",
         "showlegend": true,
         "type": "scatter",
         "x": {
          "bdata": "WwI=",
          "dtype": "i2"
         },
         "xaxis": "x",
         "y": [
          "toyota tundra"
         ],
         "yaxis": "y"
        },
        {
         "hovertemplate": "Car Model=%{y}<br>Total cars=%{x}<extra></extra>",
         "legendgroup": "volkswagen jetta",
         "marker": {
          "color": "#6A76FC",
          "symbol": "circle"
         },
         "mode": "markers",
         "name": "volkswagen jetta",
         "orientation": "h",
         "showlegend": true,
         "type": "scatter",
         "x": {
          "bdata": "BwI=",
          "dtype": "i2"
         },
         "xaxis": "x",
         "y": [
          "volkswagen jetta"
         ],
         "yaxis": "y"
        },
        {
         "hovertemplate": "Car Model=%{y}<br>Total cars=%{x}<extra></extra>",
         "legendgroup": "volkswagen passat",
         "marker": {
          "color": "#FED4C4",
          "symbol": "circle"
         },
         "mode": "markers",
         "name": "volkswagen passat",
         "orientation": "h",
         "showlegend": true,
         "type": "scatter",
         "x": {
          "bdata": "XgE=",
          "dtype": "i2"
         },
         "xaxis": "x",
         "y": [
          "volkswagen passat"
         ],
         "yaxis": "y"
        }
       ],
       "layout": {
        "hovermode": "closest",
        "legend": {
         "title": {
          "text": "Car Model"
         },
         "tracegroupgap": 0
        },
        "template": {
         "data": {
          "candlestick": [
           {
            "decreasing": {
             "line": {
              "color": "#000033"
             }
            },
            "increasing": {
             "line": {
              "color": "#000032"
             }
            },
            "type": "candlestick"
           }
          ],
          "contour": [
           {
            "colorscale": [
             [
              0,
              "#000011"
             ],
             [
              0.1111111111111111,
              "#000012"
             ],
             [
              0.2222222222222222,
              "#000013"
             ],
             [
              0.3333333333333333,
              "#000014"
             ],
             [
              0.4444444444444444,
              "#000015"
             ],
             [
              0.5555555555555556,
              "#000016"
             ],
             [
              0.6666666666666666,
              "#000017"
             ],
             [
              0.7777777777777778,
              "#000018"
             ],
             [
              0.8888888888888888,
              "#000019"
             ],
             [
              1,
              "#000020"
             ]
            ],
            "type": "contour"
           }
          ],
          "contourcarpet": [
           {
            "colorscale": [
             [
              0,
              "#000011"
             ],
             [
              0.1111111111111111,
              "#000012"
             ],
             [
              0.2222222222222222,
              "#000013"
             ],
             [
              0.3333333333333333,
              "#000014"
             ],
             [
              0.4444444444444444,
              "#000015"
             ],
             [
              0.5555555555555556,
              "#000016"
             ],
             [
              0.6666666666666666,
              "#000017"
             ],
             [
              0.7777777777777778,
              "#000018"
             ],
             [
              0.8888888888888888,
              "#000019"
             ],
             [
              1,
              "#000020"
             ]
            ],
            "type": "contourcarpet"
           }
          ],
          "heatmap": [
           {
            "colorscale": [
             [
              0,
              "#000011"
             ],
             [
              0.1111111111111111,
              "#000012"
             ],
             [
              0.2222222222222222,
              "#000013"
             ],
             [
              0.3333333333333333,
              "#000014"
             ],
             [
              0.4444444444444444,
              "#000015"
             ],
             [
              0.5555555555555556,
              "#000016"
             ],
             [
              0.6666666666666666,
              "#000017"
             ],
             [
              0.7777777777777778,
              "#000018"
             ],
             [
              0.8888888888888888,
              "#000019"
             ],
             [
              1,
              "#000020"
             ]
            ],
            "type": "heatmap"
           }
          ],
          "histogram2d": [
           {
            "colorscale": [
             [
              0,
              "#000011"
             ],
             [
              0.1111111111111111,
              "#000012"
             ],
             [
              0.2222222222222222,
              "#000013"
             ],
             [
              0.3333333333333333,
              "#000014"
             ],
             [
              0.4444444444444444,
              "#000015"
             ],
             [
              0.5555555555555556,
              "#000016"
             ],
             [
              0.6666666666666666,
              "#000017"
             ],
             [
              0.7777777777777778,
              "#000018"
             ],
             [
              0.8888888888888888,
              "#000019"
             ],
             [
              1,
              "#000020"
             ]
            ],
            "type": "histogram2d"
           }
          ],
          "icicle": [
           {
            "textfont": {
             "color": "white"
            },
            "type": "icicle"
           }
          ],
          "sankey": [
           {
            "textfont": {
             "color": "#000036"
            },
            "type": "sankey"
           }
          ],
          "scatter": [
           {
            "marker": {
             "line": {
              "width": 0
             }
            },
            "type": "scatter"
           }
          ],
          "table": [
           {
            "cells": {
             "fill": {
              "color": "#000038"
             },
             "font": {
              "color": "#000037"
             },
             "line": {
              "color": "#000039"
             }
            },
            "header": {
             "fill": {
              "color": "#000040"
             },
             "font": {
              "color": "#000036"
             },
             "line": {
              "color": "#000039"
             }
            },
            "type": "table"
           }
          ],
          "waterfall": [
           {
            "connector": {
             "line": {
              "color": "#000036",
              "width": 2
             }
            },
            "decreasing": {
             "marker": {
              "color": "#000033"
             }
            },
            "increasing": {
             "marker": {
              "color": "#000032"
             }
            },
            "totals": {
             "marker": {
              "color": "#000034"
             }
            },
            "type": "waterfall"
           }
          ]
         },
         "layout": {
          "coloraxis": {
           "colorscale": [
            [
             0,
             "#000011"
            ],
            [
             0.1111111111111111,
             "#000012"
            ],
            [
             0.2222222222222222,
             "#000013"
            ],
            [
             0.3333333333333333,
             "#000014"
            ],
            [
             0.4444444444444444,
             "#000015"
            ],
            [
             0.5555555555555556,
             "#000016"
            ],
            [
             0.6666666666666666,
             "#000017"
            ],
            [
             0.7777777777777778,
             "#000018"
            ],
            [
             0.8888888888888888,
             "#000019"
            ],
            [
             1,
             "#000020"
            ]
           ]
          },
          "colorscale": {
           "diverging": [
            [
             0,
             "#000021"
            ],
            [
             0.1,
             "#000022"
            ],
            [
             0.2,
             "#000023"
            ],
            [
             0.3,
             "#000024"
            ],
            [
             0.4,
             "#000025"
            ],
            [
             0.5,
             "#000026"
            ],
            [
             0.6,
             "#000027"
            ],
            [
             0.7,
             "#000028"
            ],
            [
             0.8,
             "#000029"
            ],
            [
             0.9,
             "#000030"
            ],
            [
             1,
             "#000031"
            ]
           ],
           "sequential": [
            [
             0,
             "#000011"
            ],
            [
             0.1111111111111111,
             "#000012"
            ],
            [
             0.2222222222222222,
             "#000013"
            ],
            [
             0.3333333333333333,
             "#000014"
            ],
            [
             0.4444444444444444,
             "#000015"
            ],
            [
             0.5555555555555556,
             "#000016"
            ],
            [
             0.6666666666666666,
             "#000017"
            ],
            [
             0.7777777777777778,
             "#000018"
            ],
            [
             0.8888888888888888,
             "#000019"
            ],
            [
             1,
             "#000020"
            ]
           ],
           "sequentialminus": [
            [
             0,
             "#000011"
            ],
            [
             0.1111111111111111,
             "#000012"
            ],
            [
             0.2222222222222222,
             "#000013"
            ],
            [
             0.3333333333333333,
             "#000014"
            ],
            [
             0.4444444444444444,
             "#000015"
            ],
            [
             0.5555555555555556,
             "#000016"
            ],
            [
             0.6666666666666666,
             "#000017"
            ],
            [
             0.7777777777777778,
             "#000018"
            ],
            [
             0.8888888888888888,
             "#000019"
            ],
            [
             1,
             "#000020"
            ]
           ]
          },
          "colorway": [
           "#000001",
           "#000002",
           "#000003",
           "#000004",
           "#000005",
           "#000006",
           "#000007",
           "#000008",
           "#000009",
           "#000010"
          ]
         }
        },
        "title": {
         "text": "Total cars from the same model"
        },
        "xaxis": {
         "anchor": "y",
         "domain": [
          0,
          1
         ],
         "range": [
          25,
          2850
         ],
         "tickfont": {
          "size": 14
         },
         "title": {
          "text": "Total cars"
         }
        },
        "yaxis": {
         "anchor": "x",
         "categoryarray": [
          "volkswagen passat",
          "volkswagen jetta",
          "toyota tundra",
          "toyota tacoma",
          "toyota sienna",
          "toyota rav4",
          "toyota prius",
          "toyota highlander",
          "toyota corolla",
          "toyota camry le",
          "toyota camry",
          "toyota 4runner",
          "subaru outback",
          "subaru impreza",
          "subaru forester",
          "ram 3500",
          "ram 2500",
          "ram 1500",
          "nissan versa",
          "nissan sentra",
          "nissan rogue",
          "nissan murano",
          "nissan maxima",
          "nissan frontier crew cab sv",
          "nissan frontier",
          "nissan altima",
          "mercedes-benz benze sprinter 2500",
          "kia soul",
          "kia sorento",
          "jeep wrangler unlimited",
          "jeep wrangler",
          "jeep liberty",
          "jeep grand cherokee laredo",
          "jeep grand cherokee",
          "jeep cherokee",
          "hyundai sonata",
          "hyundai santa fe",
          "hyundai elantra",
          "honda pilot",
          "honda odyssey",
          "honda cr-v",
          "honda civic lx",
          "honda civic",
          "honda accord",
          "gmc yukon",
          "gmc sierra 2500hd",
          "gmc sierra 1500",
          "gmc sierra",
          "gmc acadia",
          "ford taurus",
          "ford ranger",
          "ford mustang gt coupe 2d",
          "ford mustang",
          "ford fusion se",
          "ford fusion",
          "ford focus se",
          "ford focus",
          "ford f350 super duty",
          "ford f350",
          "ford f250 super duty",
          "ford f250",
          "ford f150 supercrew cab xlt",
          "ford f150",
          "ford f-350 sd",
          "ford f-250 super duty",
          "ford f-250 sd",
          "ford f-250",
          "ford f-150",
          "ford explorer",
          "ford expedition",
          "ford escape",
          "ford edge",
          "ford econoline",
          "dodge grand caravan",
          "dodge dakota",
          "dodge charger",
          "chrysler town & country",
          "chrysler 300",
          "chrysler 200",
          "chevrolet traverse",
          "chevrolet trailblazer",
          "chevrolet tahoe",
          "chevrolet suburban",
          "chevrolet silverado 3500hd",
          "chevrolet silverado 2500hd",
          "chevrolet silverado 1500 crew",
          "chevrolet silverado 1500",
          "chevrolet silverado",
          "chevrolet malibu",
          "chevrolet impala",
          "chevrolet equinox",
          "chevrolet cruze",
          "chevrolet corvette",
          "chevrolet colorado",
          "chevrolet camaro lt coupe 2d",
          "chevrolet camaro",
          "cadillac escalade",
          "buick enclave",
          "bmw x5",
          "acura tl"
         ],
         "categoryorder": "array",
         "domain": [
          0,
          1
         ],
         "tickfont": {
          "size": 6.5
         },
         "title": {
          "text": "Car Model"
         }
        }
       }
      }
     },
     "metadata": {},
     "output_type": "display_data"
    }
   ],
   "source": [
    "#Scatter plot showing how many cars we do have from the same model\n",
    "models_per_year_scatter = px.scatter(models_per_year,\n",
    "                                     x='model_year',\n",
    "                                     y='model',\n",
    "                                     title='Total cars from the same model',\n",
    "                                     labels= dict(model = 'Car Model', model_year = 'Total cars'),\n",
    "                                     color='model',\n",
    "                                     color_discrete_sequence= px.colors.qualitative.Light24)\n",
    "#Updating the size for fonts , applying the closest hovermode\n",
    "models_per_year_scatter.update_layout(\n",
    "    yaxis =dict(tickfont=dict(size=6.5)),\n",
    "    xaxis =dict(tickfont=dict(size=14)),\n",
    "    hovermode='closest'\n",
    ")\n",
    "#updating the range axis for X\n",
    "models_per_year_scatter.update_xaxes(range=[25, 2850])\n",
    "#showing plot\n",
    "models_per_year_scatter.show(config={'responsive': False})"
   ]
  },
  {
   "cell_type": "code",
   "execution_count": 173,
   "metadata": {},
   "outputs": [],
   "source": [
    "#total of cars from the same manufacturer\n",
    "cars_per_manufacturer = (\n",
    "    vehicles_info.groupby(['manufacturer'])['model']\n",
    "    .count()\n",
    "    .reset_index()\n",
    "    .rename(columns={'model': 'count'})\n",
    ")\n",
    "\n"
   ]
  },
  {
   "cell_type": "code",
   "execution_count": 174,
   "metadata": {},
   "outputs": [
    {
     "name": "stderr",
     "output_type": "stream",
     "text": [
      "2025-02-08 00:08:54.578 Thread 'MainThread': missing ScriptRunContext! This warning can be ignored when running in bare mode.\n",
      "2025-02-08 00:08:54.579 Thread 'MainThread': missing ScriptRunContext! This warning can be ignored when running in bare mode.\n"
     ]
    },
    {
     "data": {
      "text/plain": [
       "DeltaGenerator()"
      ]
     },
     "execution_count": 174,
     "metadata": {},
     "output_type": "execute_result"
    }
   ],
   "source": [
    "st.header('Bar plot showing the total numbers of cars per Manufacturer')"
   ]
  },
  {
   "cell_type": "code",
   "execution_count": 175,
   "metadata": {},
   "outputs": [
    {
     "data": {
      "application/vnd.plotly.v1+json": {
       "config": {
        "plotlyServerURL": "https://plot.ly"
       },
       "data": [
        {
         "hovertemplate": "Car Manufacturer=%{x}<br>Number of Cars=%{y}<extra></extra>",
         "legendgroup": "acura",
         "marker": {
          "color": "rgb(141,211,199)",
          "pattern": {
           "shape": ""
          }
         },
         "name": "acura",
         "orientation": "v",
         "showlegend": true,
         "textposition": "auto",
         "type": "bar",
         "x": [
          "acura"
         ],
         "xaxis": "x",
         "y": {
          "bdata": "7AA=",
          "dtype": "i2"
         },
         "yaxis": "y"
        },
        {
         "hovertemplate": "Car Manufacturer=%{x}<br>Number of Cars=%{y}<extra></extra>",
         "legendgroup": "bmw",
         "marker": {
          "color": "rgb(255,255,179)",
          "pattern": {
           "shape": ""
          }
         },
         "name": "bmw",
         "orientation": "v",
         "showlegend": true,
         "textposition": "auto",
         "type": "bar",
         "x": [
          "bmw"
         ],
         "xaxis": "x",
         "y": {
          "bdata": "CwE=",
          "dtype": "i2"
         },
         "yaxis": "y"
        },
        {
         "hovertemplate": "Car Manufacturer=%{x}<br>Number of Cars=%{y}<extra></extra>",
         "legendgroup": "buick",
         "marker": {
          "color": "rgb(190,186,218)",
          "pattern": {
           "shape": ""
          }
         },
         "name": "buick",
         "orientation": "v",
         "showlegend": true,
         "textposition": "auto",
         "type": "bar",
         "x": [
          "buick"
         ],
         "xaxis": "x",
         "y": {
          "bdata": "DwE=",
          "dtype": "i2"
         },
         "yaxis": "y"
        },
        {
         "hovertemplate": "Car Manufacturer=%{x}<br>Number of Cars=%{y}<extra></extra>",
         "legendgroup": "cadillac",
         "marker": {
          "color": "rgb(251,128,114)",
          "pattern": {
           "shape": ""
          }
         },
         "name": "cadillac",
         "orientation": "v",
         "showlegend": true,
         "textposition": "auto",
         "type": "bar",
         "x": [
          "cadillac"
         ],
         "xaxis": "x",
         "y": {
          "bdata": "QgE=",
          "dtype": "i2"
         },
         "yaxis": "y"
        },
        {
         "hovertemplate": "Car Manufacturer=%{x}<br>Number of Cars=%{y}<extra></extra>",
         "legendgroup": "chevrolet",
         "marker": {
          "color": "rgb(128,177,211)",
          "pattern": {
           "shape": ""
          }
         },
         "name": "chevrolet",
         "orientation": "v",
         "showlegend": true,
         "textposition": "auto",
         "type": "bar",
         "x": [
          "chevrolet"
         ],
         "xaxis": "x",
         "y": {
          "bdata": "cyk=",
          "dtype": "i2"
         },
         "yaxis": "y"
        },
        {
         "hovertemplate": "Car Manufacturer=%{x}<br>Number of Cars=%{y}<extra></extra>",
         "legendgroup": "chrysler",
         "marker": {
          "color": "rgb(253,180,98)",
          "pattern": {
           "shape": ""
          }
         },
         "name": "chrysler",
         "orientation": "v",
         "showlegend": true,
         "textposition": "auto",
         "type": "bar",
         "x": [
          "chrysler"
         ],
         "xaxis": "x",
         "y": {
          "bdata": "RgM=",
          "dtype": "i2"
         },
         "yaxis": "y"
        },
        {
         "hovertemplate": "Car Manufacturer=%{x}<br>Number of Cars=%{y}<extra></extra>",
         "legendgroup": "dodge",
         "marker": {
          "color": "rgb(179,222,105)",
          "pattern": {
           "shape": ""
          }
         },
         "name": "dodge",
         "orientation": "v",
         "showlegend": true,
         "textposition": "auto",
         "type": "bar",
         "x": [
          "dodge"
         ],
         "xaxis": "x",
         "y": {
          "bdata": "5wQ=",
          "dtype": "i2"
         },
         "yaxis": "y"
        },
        {
         "hovertemplate": "Car Manufacturer=%{x}<br>Number of Cars=%{y}<extra></extra>",
         "legendgroup": "ford",
         "marker": {
          "color": "rgb(252,205,229)",
          "pattern": {
           "shape": ""
          }
         },
         "name": "ford",
         "orientation": "v",
         "showlegend": true,
         "textposition": "auto",
         "type": "bar",
         "x": [
          "ford"
         ],
         "xaxis": "x",
         "y": {
          "bdata": "gDE=",
          "dtype": "i2"
         },
         "yaxis": "y"
        },
        {
         "hovertemplate": "Car Manufacturer=%{x}<br>Number of Cars=%{y}<extra></extra>",
         "legendgroup": "gmc",
         "marker": {
          "color": "rgb(217,217,217)",
          "pattern": {
           "shape": ""
          }
         },
         "name": "gmc",
         "orientation": "v",
         "showlegend": true,
         "textposition": "auto",
         "type": "bar",
         "x": [
          "gmc"
         ],
         "xaxis": "x",
         "y": {
          "bdata": "Sgk=",
          "dtype": "i2"
         },
         "yaxis": "y"
        },
        {
         "hovertemplate": "Car Manufacturer=%{x}<br>Number of Cars=%{y}<extra></extra>",
         "legendgroup": "honda",
         "marker": {
          "color": "rgb(188,128,189)",
          "pattern": {
           "shape": ""
          }
         },
         "name": "honda",
         "orientation": "v",
         "showlegend": true,
         "textposition": "auto",
         "type": "bar",
         "x": [
          "honda"
         ],
         "xaxis": "x",
         "y": {
          "bdata": "nQ0=",
          "dtype": "i2"
         },
         "yaxis": "y"
        },
        {
         "hovertemplate": "Car Manufacturer=%{x}<br>Number of Cars=%{y}<extra></extra>",
         "legendgroup": "hyundai",
         "marker": {
          "color": "rgb(204,235,197)",
          "pattern": {
           "shape": ""
          }
         },
         "name": "hyundai",
         "orientation": "v",
         "showlegend": true,
         "textposition": "auto",
         "type": "bar",
         "x": [
          "hyundai"
         ],
         "xaxis": "x",
         "y": {
          "bdata": "lQQ=",
          "dtype": "i2"
         },
         "yaxis": "y"
        },
        {
         "hovertemplate": "Car Manufacturer=%{x}<br>Number of Cars=%{y}<extra></extra>",
         "legendgroup": "jeep",
         "marker": {
          "color": "rgb(255,237,111)",
          "pattern": {
           "shape": ""
          }
         },
         "name": "jeep",
         "orientation": "v",
         "showlegend": true,
         "textposition": "auto",
         "type": "bar",
         "x": [
          "jeep"
         ],
         "xaxis": "x",
         "y": {
          "bdata": "0Qw=",
          "dtype": "i2"
         },
         "yaxis": "y"
        },
        {
         "hovertemplate": "Car Manufacturer=%{x}<br>Number of Cars=%{y}<extra></extra>",
         "legendgroup": "kia",
         "marker": {
          "color": "rgb(141,211,199)",
          "pattern": {
           "shape": ""
          }
         },
         "name": "kia",
         "orientation": "v",
         "showlegend": true,
         "textposition": "auto",
         "type": "bar",
         "x": [
          "kia"
         ],
         "xaxis": "x",
         "y": {
          "bdata": "SQI=",
          "dtype": "i2"
         },
         "yaxis": "y"
        },
        {
         "hovertemplate": "Car Manufacturer=%{x}<br>Number of Cars=%{y}<extra></extra>",
         "legendgroup": "mercedes",
         "marker": {
          "color": "rgb(255,255,179)",
          "pattern": {
           "shape": ""
          }
         },
         "name": "mercedes",
         "orientation": "v",
         "showlegend": true,
         "textposition": "auto",
         "type": "bar",
         "x": [
          "mercedes"
         ],
         "xaxis": "x",
         "y": {
          "bdata": "KQ==",
          "dtype": "i1"
         },
         "yaxis": "y"
        },
        {
         "hovertemplate": "Car Manufacturer=%{x}<br>Number of Cars=%{y}<extra></extra>",
         "legendgroup": "nissan",
         "marker": {
          "color": "rgb(190,186,218)",
          "pattern": {
           "shape": ""
          }
         },
         "name": "nissan",
         "orientation": "v",
         "showlegend": true,
         "textposition": "auto",
         "type": "bar",
         "x": [
          "nissan"
         ],
         "xaxis": "x",
         "y": {
          "bdata": "iAw=",
          "dtype": "i2"
         },
         "yaxis": "y"
        },
        {
         "hovertemplate": "Car Manufacturer=%{x}<br>Number of Cars=%{y}<extra></extra>",
         "legendgroup": "ram",
         "marker": {
          "color": "rgb(251,128,114)",
          "pattern": {
           "shape": ""
          }
         },
         "name": "ram",
         "orientation": "v",
         "showlegend": true,
         "textposition": "auto",
         "type": "bar",
         "x": [
          "ram"
         ],
         "xaxis": "x",
         "y": {
          "bdata": "9Aw=",
          "dtype": "i2"
         },
         "yaxis": "y"
        },
        {
         "hovertemplate": "Car Manufacturer=%{x}<br>Number of Cars=%{y}<extra></extra>",
         "legendgroup": "subaru",
         "marker": {
          "color": "rgb(128,177,211)",
          "pattern": {
           "shape": ""
          }
         },
         "name": "subaru",
         "orientation": "v",
         "showlegend": true,
         "textposition": "auto",
         "type": "bar",
         "x": [
          "subaru"
         ],
         "xaxis": "x",
         "y": {
          "bdata": "+AQ=",
          "dtype": "i2"
         },
         "yaxis": "y"
        },
        {
         "hovertemplate": "Car Manufacturer=%{x}<br>Number of Cars=%{y}<extra></extra>",
         "legendgroup": "toyota",
         "marker": {
          "color": "rgb(253,180,98)",
          "pattern": {
           "shape": ""
          }
         },
         "name": "toyota",
         "orientation": "v",
         "showlegend": true,
         "textposition": "auto",
         "type": "bar",
         "x": [
          "toyota"
         ],
         "xaxis": "x",
         "y": {
          "bdata": "RRU=",
          "dtype": "i2"
         },
         "yaxis": "y"
        },
        {
         "hovertemplate": "Car Manufacturer=%{x}<br>Number of Cars=%{y}<extra></extra>",
         "legendgroup": "volkswagen",
         "marker": {
          "color": "rgb(179,222,105)",
          "pattern": {
           "shape": ""
          }
         },
         "name": "volkswagen",
         "orientation": "v",
         "showlegend": true,
         "textposition": "auto",
         "type": "bar",
         "x": [
          "volkswagen"
         ],
         "xaxis": "x",
         "y": {
          "bdata": "ZQM=",
          "dtype": "i2"
         },
         "yaxis": "y"
        }
       ],
       "layout": {
        "barmode": "relative",
        "legend": {
         "title": {
          "text": "Car Manufacturer"
         },
         "tracegroupgap": 0
        },
        "template": {
         "data": {
          "candlestick": [
           {
            "decreasing": {
             "line": {
              "color": "#000033"
             }
            },
            "increasing": {
             "line": {
              "color": "#000032"
             }
            },
            "type": "candlestick"
           }
          ],
          "contour": [
           {
            "colorscale": [
             [
              0,
              "#000011"
             ],
             [
              0.1111111111111111,
              "#000012"
             ],
             [
              0.2222222222222222,
              "#000013"
             ],
             [
              0.3333333333333333,
              "#000014"
             ],
             [
              0.4444444444444444,
              "#000015"
             ],
             [
              0.5555555555555556,
              "#000016"
             ],
             [
              0.6666666666666666,
              "#000017"
             ],
             [
              0.7777777777777778,
              "#000018"
             ],
             [
              0.8888888888888888,
              "#000019"
             ],
             [
              1,
              "#000020"
             ]
            ],
            "type": "contour"
           }
          ],
          "contourcarpet": [
           {
            "colorscale": [
             [
              0,
              "#000011"
             ],
             [
              0.1111111111111111,
              "#000012"
             ],
             [
              0.2222222222222222,
              "#000013"
             ],
             [
              0.3333333333333333,
              "#000014"
             ],
             [
              0.4444444444444444,
              "#000015"
             ],
             [
              0.5555555555555556,
              "#000016"
             ],
             [
              0.6666666666666666,
              "#000017"
             ],
             [
              0.7777777777777778,
              "#000018"
             ],
             [
              0.8888888888888888,
              "#000019"
             ],
             [
              1,
              "#000020"
             ]
            ],
            "type": "contourcarpet"
           }
          ],
          "heatmap": [
           {
            "colorscale": [
             [
              0,
              "#000011"
             ],
             [
              0.1111111111111111,
              "#000012"
             ],
             [
              0.2222222222222222,
              "#000013"
             ],
             [
              0.3333333333333333,
              "#000014"
             ],
             [
              0.4444444444444444,
              "#000015"
             ],
             [
              0.5555555555555556,
              "#000016"
             ],
             [
              0.6666666666666666,
              "#000017"
             ],
             [
              0.7777777777777778,
              "#000018"
             ],
             [
              0.8888888888888888,
              "#000019"
             ],
             [
              1,
              "#000020"
             ]
            ],
            "type": "heatmap"
           }
          ],
          "histogram2d": [
           {
            "colorscale": [
             [
              0,
              "#000011"
             ],
             [
              0.1111111111111111,
              "#000012"
             ],
             [
              0.2222222222222222,
              "#000013"
             ],
             [
              0.3333333333333333,
              "#000014"
             ],
             [
              0.4444444444444444,
              "#000015"
             ],
             [
              0.5555555555555556,
              "#000016"
             ],
             [
              0.6666666666666666,
              "#000017"
             ],
             [
              0.7777777777777778,
              "#000018"
             ],
             [
              0.8888888888888888,
              "#000019"
             ],
             [
              1,
              "#000020"
             ]
            ],
            "type": "histogram2d"
           }
          ],
          "icicle": [
           {
            "textfont": {
             "color": "white"
            },
            "type": "icicle"
           }
          ],
          "sankey": [
           {
            "textfont": {
             "color": "#000036"
            },
            "type": "sankey"
           }
          ],
          "scatter": [
           {
            "marker": {
             "line": {
              "width": 0
             }
            },
            "type": "scatter"
           }
          ],
          "table": [
           {
            "cells": {
             "fill": {
              "color": "#000038"
             },
             "font": {
              "color": "#000037"
             },
             "line": {
              "color": "#000039"
             }
            },
            "header": {
             "fill": {
              "color": "#000040"
             },
             "font": {
              "color": "#000036"
             },
             "line": {
              "color": "#000039"
             }
            },
            "type": "table"
           }
          ],
          "waterfall": [
           {
            "connector": {
             "line": {
              "color": "#000036",
              "width": 2
             }
            },
            "decreasing": {
             "marker": {
              "color": "#000033"
             }
            },
            "increasing": {
             "marker": {
              "color": "#000032"
             }
            },
            "totals": {
             "marker": {
              "color": "#000034"
             }
            },
            "type": "waterfall"
           }
          ]
         },
         "layout": {
          "coloraxis": {
           "colorscale": [
            [
             0,
             "#000011"
            ],
            [
             0.1111111111111111,
             "#000012"
            ],
            [
             0.2222222222222222,
             "#000013"
            ],
            [
             0.3333333333333333,
             "#000014"
            ],
            [
             0.4444444444444444,
             "#000015"
            ],
            [
             0.5555555555555556,
             "#000016"
            ],
            [
             0.6666666666666666,
             "#000017"
            ],
            [
             0.7777777777777778,
             "#000018"
            ],
            [
             0.8888888888888888,
             "#000019"
            ],
            [
             1,
             "#000020"
            ]
           ]
          },
          "colorscale": {
           "diverging": [
            [
             0,
             "#000021"
            ],
            [
             0.1,
             "#000022"
            ],
            [
             0.2,
             "#000023"
            ],
            [
             0.3,
             "#000024"
            ],
            [
             0.4,
             "#000025"
            ],
            [
             0.5,
             "#000026"
            ],
            [
             0.6,
             "#000027"
            ],
            [
             0.7,
             "#000028"
            ],
            [
             0.8,
             "#000029"
            ],
            [
             0.9,
             "#000030"
            ],
            [
             1,
             "#000031"
            ]
           ],
           "sequential": [
            [
             0,
             "#000011"
            ],
            [
             0.1111111111111111,
             "#000012"
            ],
            [
             0.2222222222222222,
             "#000013"
            ],
            [
             0.3333333333333333,
             "#000014"
            ],
            [
             0.4444444444444444,
             "#000015"
            ],
            [
             0.5555555555555556,
             "#000016"
            ],
            [
             0.6666666666666666,
             "#000017"
            ],
            [
             0.7777777777777778,
             "#000018"
            ],
            [
             0.8888888888888888,
             "#000019"
            ],
            [
             1,
             "#000020"
            ]
           ],
           "sequentialminus": [
            [
             0,
             "#000011"
            ],
            [
             0.1111111111111111,
             "#000012"
            ],
            [
             0.2222222222222222,
             "#000013"
            ],
            [
             0.3333333333333333,
             "#000014"
            ],
            [
             0.4444444444444444,
             "#000015"
            ],
            [
             0.5555555555555556,
             "#000016"
            ],
            [
             0.6666666666666666,
             "#000017"
            ],
            [
             0.7777777777777778,
             "#000018"
            ],
            [
             0.8888888888888888,
             "#000019"
            ],
            [
             1,
             "#000020"
            ]
           ]
          },
          "colorway": [
           "#000001",
           "#000002",
           "#000003",
           "#000004",
           "#000005",
           "#000006",
           "#000007",
           "#000008",
           "#000009",
           "#000010"
          ]
         }
        },
        "title": {
         "text": "Number of Cars Per Manufacturer"
        },
        "xaxis": {
         "anchor": "y",
         "categoryarray": [
          "acura",
          "bmw",
          "buick",
          "cadillac",
          "chevrolet",
          "chrysler",
          "dodge",
          "ford",
          "gmc",
          "honda",
          "hyundai",
          "jeep",
          "kia",
          "mercedes",
          "nissan",
          "ram",
          "subaru",
          "toyota",
          "volkswagen"
         ],
         "categoryorder": "array",
         "domain": [
          0,
          1
         ],
         "title": {
          "text": "Car Manufacturer"
         }
        },
        "yaxis": {
         "anchor": "x",
         "domain": [
          0,
          1
         ],
         "title": {
          "text": "Number of Cars"
         }
        }
       }
      }
     },
     "metadata": {},
     "output_type": "display_data"
    }
   ],
   "source": [
    "# Create bar plot\n",
    "cars_per_manufacturer_bar = px.bar(\n",
    "    cars_per_manufacturer,\n",
    "    x=\"manufacturer\", \n",
    "    y=\"count\",\n",
    "    title=\"Number of Cars Per Manufacturer\",\n",
    "    labels={\"manufacturer\": \"Car Manufacturer\", \"count\": \"Number of Cars\"},\n",
    "    color=\"manufacturer\",  # Different color for each manufacturer\n",
    "    color_discrete_sequence=px.colors.qualitative.Set3  # Set color scheme\n",
    ")\n",
    "\n",
    "# Show the plot\n",
    "cars_per_manufacturer_bar.show()"
   ]
  },
  {
   "cell_type": "code",
   "execution_count": 176,
   "metadata": {},
   "outputs": [
    {
     "name": "stderr",
     "output_type": "stream",
     "text": [
      "2025-02-08 00:08:54.691 Thread 'MainThread': missing ScriptRunContext! This warning can be ignored when running in bare mode.\n",
      "2025-02-08 00:08:54.692 Thread 'MainThread': missing ScriptRunContext! This warning can be ignored when running in bare mode.\n"
     ]
    },
    {
     "data": {
      "text/plain": [
       "DeltaGenerator()"
      ]
     },
     "execution_count": 176,
     "metadata": {},
     "output_type": "execute_result"
    }
   ],
   "source": [
    "st.header('Histogram plot comparing cars higher than 100k and lower than 100k per years')"
   ]
  },
  {
   "cell_type": "code",
   "execution_count": 177,
   "metadata": {},
   "outputs": [
    {
     "name": "stdout",
     "output_type": "stream",
     "text": [
      "2019\n"
     ]
    }
   ],
   "source": [
    "print(vehicles_info['model_year'].max())"
   ]
  },
  {
   "cell_type": "code",
   "execution_count": 178,
   "metadata": {},
   "outputs": [
    {
     "data": {
      "application/vnd.plotly.v1+json": {
       "config": {
        "plotlyServerURL": "https://plot.ly"
       },
       "data": [
        {
         "alignmentgroup": "True",
         "bingroup": "x",
         "histfunc": "sum",
         "hovertemplate": "model_year=1954<br>Mileage Odometer=%{x}<br>sum of Models=%{y}<extra></extra>",
         "legendgroup": "1954",
         "marker": {
          "color": "#FD3216",
          "pattern": {
           "shape": ""
          }
         },
         "name": "1954",
         "offsetgroup": "1954",
         "orientation": "v",
         "showlegend": true,
         "type": "histogram",
         "x": [
          "Lower than 100k"
         ],
         "xaxis": "x",
         "y": {
          "bdata": "AQ==",
          "dtype": "i1"
         },
         "yaxis": "y"
        },
        {
         "alignmentgroup": "True",
         "bingroup": "x",
         "histfunc": "sum",
         "hovertemplate": "model_year=1955<br>Mileage Odometer=%{x}<br>sum of Models=%{y}<extra></extra>",
         "legendgroup": "1955",
         "marker": {
          "color": "#00FE35",
          "pattern": {
           "shape": ""
          }
         },
         "name": "1955",
         "offsetgroup": "1955",
         "orientation": "v",
         "showlegend": true,
         "type": "histogram",
         "x": [
          "Lower than 100k"
         ],
         "xaxis": "x",
         "y": {
          "bdata": "AQ==",
          "dtype": "i1"
         },
         "yaxis": "y"
        },
        {
         "alignmentgroup": "True",
         "bingroup": "x",
         "histfunc": "sum",
         "hovertemplate": "model_year=1958<br>Mileage Odometer=%{x}<br>sum of Models=%{y}<extra></extra>",
         "legendgroup": "1958",
         "marker": {
          "color": "#6A76FC",
          "pattern": {
           "shape": ""
          }
         },
         "name": "1958",
         "offsetgroup": "1958",
         "orientation": "v",
         "showlegend": true,
         "type": "histogram",
         "x": [
          "Lower than 100k"
         ],
         "xaxis": "x",
         "y": {
          "bdata": "Ag==",
          "dtype": "i1"
         },
         "yaxis": "y"
        },
        {
         "alignmentgroup": "True",
         "bingroup": "x",
         "histfunc": "sum",
         "hovertemplate": "model_year=1960<br>Mileage Odometer=%{x}<br>sum of Models=%{y}<extra></extra>",
         "legendgroup": "1960",
         "marker": {
          "color": "#FED4C4",
          "pattern": {
           "shape": ""
          }
         },
         "name": "1960",
         "offsetgroup": "1960",
         "orientation": "v",
         "showlegend": true,
         "type": "histogram",
         "x": [
          "Lower than 100k"
         ],
         "xaxis": "x",
         "y": {
          "bdata": "Aw==",
          "dtype": "i1"
         },
         "yaxis": "y"
        },
        {
         "alignmentgroup": "True",
         "bingroup": "x",
         "histfunc": "sum",
         "hovertemplate": "model_year=1961<br>Mileage Odometer=%{x}<br>sum of Models=%{y}<extra></extra>",
         "legendgroup": "1961",
         "marker": {
          "color": "#FE00CE",
          "pattern": {
           "shape": ""
          }
         },
         "name": "1961",
         "offsetgroup": "1961",
         "orientation": "v",
         "showlegend": true,
         "type": "histogram",
         "x": [
          "Lower than 100k"
         ],
         "xaxis": "x",
         "y": {
          "bdata": "AQ==",
          "dtype": "i1"
         },
         "yaxis": "y"
        },
        {
         "alignmentgroup": "True",
         "bingroup": "x",
         "histfunc": "sum",
         "hovertemplate": "model_year=1962<br>Mileage Odometer=%{x}<br>sum of Models=%{y}<extra></extra>",
         "legendgroup": "1962",
         "marker": {
          "color": "#0DF9FF",
          "pattern": {
           "shape": ""
          }
         },
         "name": "1962",
         "offsetgroup": "1962",
         "orientation": "v",
         "showlegend": true,
         "type": "histogram",
         "x": [
          "Lower than 100k"
         ],
         "xaxis": "x",
         "y": {
          "bdata": "Aw==",
          "dtype": "i1"
         },
         "yaxis": "y"
        },
        {
         "alignmentgroup": "True",
         "bingroup": "x",
         "histfunc": "sum",
         "hovertemplate": "model_year=1963<br>Mileage Odometer=%{x}<br>sum of Models=%{y}<extra></extra>",
         "legendgroup": "1963",
         "marker": {
          "color": "#F6F926",
          "pattern": {
           "shape": ""
          }
         },
         "name": "1963",
         "offsetgroup": "1963",
         "orientation": "v",
         "showlegend": true,
         "type": "histogram",
         "x": [
          "Lower than 100k"
         ],
         "xaxis": "x",
         "y": {
          "bdata": "Aw==",
          "dtype": "i1"
         },
         "yaxis": "y"
        },
        {
         "alignmentgroup": "True",
         "bingroup": "x",
         "histfunc": "sum",
         "hovertemplate": "model_year=1964<br>Mileage Odometer=%{x}<br>sum of Models=%{y}<extra></extra>",
         "legendgroup": "1964",
         "marker": {
          "color": "#FF9616",
          "pattern": {
           "shape": ""
          }
         },
         "name": "1964",
         "offsetgroup": "1964",
         "orientation": "v",
         "showlegend": true,
         "type": "histogram",
         "x": [
          "Above 100k",
          "Lower than 100k"
         ],
         "xaxis": "x",
         "y": {
          "bdata": "AgU=",
          "dtype": "i1"
         },
         "yaxis": "y"
        },
        {
         "alignmentgroup": "True",
         "bingroup": "x",
         "histfunc": "sum",
         "hovertemplate": "model_year=1965<br>Mileage Odometer=%{x}<br>sum of Models=%{y}<extra></extra>",
         "legendgroup": "1965",
         "marker": {
          "color": "#479B55",
          "pattern": {
           "shape": ""
          }
         },
         "name": "1965",
         "offsetgroup": "1965",
         "orientation": "v",
         "showlegend": true,
         "type": "histogram",
         "x": [
          "Lower than 100k"
         ],
         "xaxis": "x",
         "y": {
          "bdata": "Cg==",
          "dtype": "i1"
         },
         "yaxis": "y"
        },
        {
         "alignmentgroup": "True",
         "bingroup": "x",
         "histfunc": "sum",
         "hovertemplate": "model_year=1966<br>Mileage Odometer=%{x}<br>sum of Models=%{y}<extra></extra>",
         "legendgroup": "1966",
         "marker": {
          "color": "#EEA6FB",
          "pattern": {
           "shape": ""
          }
         },
         "name": "1966",
         "offsetgroup": "1966",
         "orientation": "v",
         "showlegend": true,
         "type": "histogram",
         "x": [
          "Above 100k",
          "Lower than 100k"
         ],
         "xaxis": "x",
         "y": {
          "bdata": "AhU=",
          "dtype": "i1"
         },
         "yaxis": "y"
        },
        {
         "alignmentgroup": "True",
         "bingroup": "x",
         "histfunc": "sum",
         "hovertemplate": "model_year=1967<br>Mileage Odometer=%{x}<br>sum of Models=%{y}<extra></extra>",
         "legendgroup": "1967",
         "marker": {
          "color": "#DC587D",
          "pattern": {
           "shape": ""
          }
         },
         "name": "1967",
         "offsetgroup": "1967",
         "orientation": "v",
         "showlegend": true,
         "type": "histogram",
         "x": [
          "Above 100k",
          "Lower than 100k"
         ],
         "xaxis": "x",
         "y": {
          "bdata": "AgU=",
          "dtype": "i1"
         },
         "yaxis": "y"
        },
        {
         "alignmentgroup": "True",
         "bingroup": "x",
         "histfunc": "sum",
         "hovertemplate": "model_year=1968<br>Mileage Odometer=%{x}<br>sum of Models=%{y}<extra></extra>",
         "legendgroup": "1968",
         "marker": {
          "color": "#D626FF",
          "pattern": {
           "shape": ""
          }
         },
         "name": "1968",
         "offsetgroup": "1968",
         "orientation": "v",
         "showlegend": true,
         "type": "histogram",
         "x": [
          "Above 100k",
          "Lower than 100k"
         ],
         "xaxis": "x",
         "y": {
          "bdata": "AQ8=",
          "dtype": "i1"
         },
         "yaxis": "y"
        },
        {
         "alignmentgroup": "True",
         "bingroup": "x",
         "histfunc": "sum",
         "hovertemplate": "model_year=1969<br>Mileage Odometer=%{x}<br>sum of Models=%{y}<extra></extra>",
         "legendgroup": "1969",
         "marker": {
          "color": "#6E899C",
          "pattern": {
           "shape": ""
          }
         },
         "name": "1969",
         "offsetgroup": "1969",
         "orientation": "v",
         "showlegend": true,
         "type": "histogram",
         "x": [
          "Lower than 100k"
         ],
         "xaxis": "x",
         "y": {
          "bdata": "Cg==",
          "dtype": "i1"
         },
         "yaxis": "y"
        },
        {
         "alignmentgroup": "True",
         "bingroup": "x",
         "histfunc": "sum",
         "hovertemplate": "model_year=1970<br>Mileage Odometer=%{x}<br>sum of Models=%{y}<extra></extra>",
         "legendgroup": "1970",
         "marker": {
          "color": "#00B5F7",
          "pattern": {
           "shape": ""
          }
         },
         "name": "1970",
         "offsetgroup": "1970",
         "orientation": "v",
         "showlegend": true,
         "type": "histogram",
         "x": [
          "Above 100k",
          "Lower than 100k"
         ],
         "xaxis": "x",
         "y": {
          "bdata": "Awc=",
          "dtype": "i1"
         },
         "yaxis": "y"
        },
        {
         "alignmentgroup": "True",
         "bingroup": "x",
         "histfunc": "sum",
         "hovertemplate": "model_year=1971<br>Mileage Odometer=%{x}<br>sum of Models=%{y}<extra></extra>",
         "legendgroup": "1971",
         "marker": {
          "color": "#B68E00",
          "pattern": {
           "shape": ""
          }
         },
         "name": "1971",
         "offsetgroup": "1971",
         "orientation": "v",
         "showlegend": true,
         "type": "histogram",
         "x": [
          "Lower than 100k"
         ],
         "xaxis": "x",
         "y": {
          "bdata": "Bw==",
          "dtype": "i1"
         },
         "yaxis": "y"
        },
        {
         "alignmentgroup": "True",
         "bingroup": "x",
         "histfunc": "sum",
         "hovertemplate": "model_year=1972<br>Mileage Odometer=%{x}<br>sum of Models=%{y}<extra></extra>",
         "legendgroup": "1972",
         "marker": {
          "color": "#C9FBE5",
          "pattern": {
           "shape": ""
          }
         },
         "name": "1972",
         "offsetgroup": "1972",
         "orientation": "v",
         "showlegend": true,
         "type": "histogram",
         "x": [
          "Above 100k",
          "Lower than 100k"
         ],
         "xaxis": "x",
         "y": {
          "bdata": "AQQ=",
          "dtype": "i1"
         },
         "yaxis": "y"
        },
        {
         "alignmentgroup": "True",
         "bingroup": "x",
         "histfunc": "sum",
         "hovertemplate": "model_year=1973<br>Mileage Odometer=%{x}<br>sum of Models=%{y}<extra></extra>",
         "legendgroup": "1973",
         "marker": {
          "color": "#FF0092",
          "pattern": {
           "shape": ""
          }
         },
         "name": "1973",
         "offsetgroup": "1973",
         "orientation": "v",
         "showlegend": true,
         "type": "histogram",
         "x": [
          "Above 100k",
          "Lower than 100k"
         ],
         "xaxis": "x",
         "y": {
          "bdata": "Ag0=",
          "dtype": "i1"
         },
         "yaxis": "y"
        },
        {
         "alignmentgroup": "True",
         "bingroup": "x",
         "histfunc": "sum",
         "hovertemplate": "model_year=1974<br>Mileage Odometer=%{x}<br>sum of Models=%{y}<extra></extra>",
         "legendgroup": "1974",
         "marker": {
          "color": "#22FFA7",
          "pattern": {
           "shape": ""
          }
         },
         "name": "1974",
         "offsetgroup": "1974",
         "orientation": "v",
         "showlegend": true,
         "type": "histogram",
         "x": [
          "Above 100k",
          "Lower than 100k"
         ],
         "xaxis": "x",
         "y": {
          "bdata": "AQM=",
          "dtype": "i1"
         },
         "yaxis": "y"
        },
        {
         "alignmentgroup": "True",
         "bingroup": "x",
         "histfunc": "sum",
         "hovertemplate": "model_year=1975<br>Mileage Odometer=%{x}<br>sum of Models=%{y}<extra></extra>",
         "legendgroup": "1975",
         "marker": {
          "color": "#E3EE9E",
          "pattern": {
           "shape": ""
          }
         },
         "name": "1975",
         "offsetgroup": "1975",
         "orientation": "v",
         "showlegend": true,
         "type": "histogram",
         "x": [
          "Above 100k",
          "Lower than 100k"
         ],
         "xaxis": "x",
         "y": {
          "bdata": "AQY=",
          "dtype": "i1"
         },
         "yaxis": "y"
        },
        {
         "alignmentgroup": "True",
         "bingroup": "x",
         "histfunc": "sum",
         "hovertemplate": "model_year=1976<br>Mileage Odometer=%{x}<br>sum of Models=%{y}<extra></extra>",
         "legendgroup": "1976",
         "marker": {
          "color": "#86CE00",
          "pattern": {
           "shape": ""
          }
         },
         "name": "1976",
         "offsetgroup": "1976",
         "orientation": "v",
         "showlegend": true,
         "type": "histogram",
         "x": [
          "Lower than 100k"
         ],
         "xaxis": "x",
         "y": {
          "bdata": "Aw==",
          "dtype": "i1"
         },
         "yaxis": "y"
        },
        {
         "alignmentgroup": "True",
         "bingroup": "x",
         "histfunc": "sum",
         "hovertemplate": "model_year=1977<br>Mileage Odometer=%{x}<br>sum of Models=%{y}<extra></extra>",
         "legendgroup": "1977",
         "marker": {
          "color": "#BC7196",
          "pattern": {
           "shape": ""
          }
         },
         "name": "1977",
         "offsetgroup": "1977",
         "orientation": "v",
         "showlegend": true,
         "type": "histogram",
         "x": [
          "Above 100k",
          "Lower than 100k"
         ],
         "xaxis": "x",
         "y": {
          "bdata": "BQg=",
          "dtype": "i1"
         },
         "yaxis": "y"
        },
        {
         "alignmentgroup": "True",
         "bingroup": "x",
         "histfunc": "sum",
         "hovertemplate": "model_year=1978<br>Mileage Odometer=%{x}<br>sum of Models=%{y}<extra></extra>",
         "legendgroup": "1978",
         "marker": {
          "color": "#7E7DCD",
          "pattern": {
           "shape": ""
          }
         },
         "name": "1978",
         "offsetgroup": "1978",
         "orientation": "v",
         "showlegend": true,
         "type": "histogram",
         "x": [
          "Above 100k",
          "Lower than 100k"
         ],
         "xaxis": "x",
         "y": {
          "bdata": "Aww=",
          "dtype": "i1"
         },
         "yaxis": "y"
        },
        {
         "alignmentgroup": "True",
         "bingroup": "x",
         "histfunc": "sum",
         "hovertemplate": "model_year=1979<br>Mileage Odometer=%{x}<br>sum of Models=%{y}<extra></extra>",
         "legendgroup": "1979",
         "marker": {
          "color": "#FC6955",
          "pattern": {
           "shape": ""
          }
         },
         "name": "1979",
         "offsetgroup": "1979",
         "orientation": "v",
         "showlegend": true,
         "type": "histogram",
         "x": [
          "Above 100k",
          "Lower than 100k"
         ],
         "xaxis": "x",
         "y": {
          "bdata": "BA8=",
          "dtype": "i1"
         },
         "yaxis": "y"
        },
        {
         "alignmentgroup": "True",
         "bingroup": "x",
         "histfunc": "sum",
         "hovertemplate": "model_year=1980<br>Mileage Odometer=%{x}<br>sum of Models=%{y}<extra></extra>",
         "legendgroup": "1980",
         "marker": {
          "color": "#E48F72",
          "pattern": {
           "shape": ""
          }
         },
         "name": "1980",
         "offsetgroup": "1980",
         "orientation": "v",
         "showlegend": true,
         "type": "histogram",
         "x": [
          "Above 100k",
          "Lower than 100k"
         ],
         "xaxis": "x",
         "y": {
          "bdata": "AQs=",
          "dtype": "i1"
         },
         "yaxis": "y"
        },
        {
         "alignmentgroup": "True",
         "bingroup": "x",
         "histfunc": "sum",
         "hovertemplate": "model_year=1981<br>Mileage Odometer=%{x}<br>sum of Models=%{y}<extra></extra>",
         "legendgroup": "1981",
         "marker": {
          "color": "#FD3216",
          "pattern": {
           "shape": ""
          }
         },
         "name": "1981",
         "offsetgroup": "1981",
         "orientation": "v",
         "showlegend": true,
         "type": "histogram",
         "x": [
          "Above 100k",
          "Lower than 100k"
         ],
         "xaxis": "x",
         "y": {
          "bdata": "Agg=",
          "dtype": "i1"
         },
         "yaxis": "y"
        },
        {
         "alignmentgroup": "True",
         "bingroup": "x",
         "histfunc": "sum",
         "hovertemplate": "model_year=1982<br>Mileage Odometer=%{x}<br>sum of Models=%{y}<extra></extra>",
         "legendgroup": "1982",
         "marker": {
          "color": "#00FE35",
          "pattern": {
           "shape": ""
          }
         },
         "name": "1982",
         "offsetgroup": "1982",
         "orientation": "v",
         "showlegend": true,
         "type": "histogram",
         "x": [
          "Above 100k",
          "Lower than 100k"
         ],
         "xaxis": "x",
         "y": {
          "bdata": "AwY=",
          "dtype": "i1"
         },
         "yaxis": "y"
        },
        {
         "alignmentgroup": "True",
         "bingroup": "x",
         "histfunc": "sum",
         "hovertemplate": "model_year=1983<br>Mileage Odometer=%{x}<br>sum of Models=%{y}<extra></extra>",
         "legendgroup": "1983",
         "marker": {
          "color": "#6A76FC",
          "pattern": {
           "shape": ""
          }
         },
         "name": "1983",
         "offsetgroup": "1983",
         "orientation": "v",
         "showlegend": true,
         "type": "histogram",
         "x": [
          "Above 100k",
          "Lower than 100k"
         ],
         "xaxis": "x",
         "y": {
          "bdata": "AQY=",
          "dtype": "i1"
         },
         "yaxis": "y"
        },
        {
         "alignmentgroup": "True",
         "bingroup": "x",
         "histfunc": "sum",
         "hovertemplate": "model_year=1984<br>Mileage Odometer=%{x}<br>sum of Models=%{y}<extra></extra>",
         "legendgroup": "1984",
         "marker": {
          "color": "#FED4C4",
          "pattern": {
           "shape": ""
          }
         },
         "name": "1984",
         "offsetgroup": "1984",
         "orientation": "v",
         "showlegend": true,
         "type": "histogram",
         "x": [
          "Above 100k",
          "Lower than 100k"
         ],
         "xaxis": "x",
         "y": {
          "bdata": "CQs=",
          "dtype": "i1"
         },
         "yaxis": "y"
        },
        {
         "alignmentgroup": "True",
         "bingroup": "x",
         "histfunc": "sum",
         "hovertemplate": "model_year=1985<br>Mileage Odometer=%{x}<br>sum of Models=%{y}<extra></extra>",
         "legendgroup": "1985",
         "marker": {
          "color": "#FE00CE",
          "pattern": {
           "shape": ""
          }
         },
         "name": "1985",
         "offsetgroup": "1985",
         "orientation": "v",
         "showlegend": true,
         "type": "histogram",
         "x": [
          "Above 100k",
          "Lower than 100k"
         ],
         "xaxis": "x",
         "y": {
          "bdata": "Bws=",
          "dtype": "i1"
         },
         "yaxis": "y"
        },
        {
         "alignmentgroup": "True",
         "bingroup": "x",
         "histfunc": "sum",
         "hovertemplate": "model_year=1986<br>Mileage Odometer=%{x}<br>sum of Models=%{y}<extra></extra>",
         "legendgroup": "1986",
         "marker": {
          "color": "#0DF9FF",
          "pattern": {
           "shape": ""
          }
         },
         "name": "1986",
         "offsetgroup": "1986",
         "orientation": "v",
         "showlegend": true,
         "type": "histogram",
         "x": [
          "Above 100k",
          "Lower than 100k"
         ],
         "xaxis": "x",
         "y": {
          "bdata": "DRo=",
          "dtype": "i1"
         },
         "yaxis": "y"
        },
        {
         "alignmentgroup": "True",
         "bingroup": "x",
         "histfunc": "sum",
         "hovertemplate": "model_year=1987<br>Mileage Odometer=%{x}<br>sum of Models=%{y}<extra></extra>",
         "legendgroup": "1987",
         "marker": {
          "color": "#F6F926",
          "pattern": {
           "shape": ""
          }
         },
         "name": "1987",
         "offsetgroup": "1987",
         "orientation": "v",
         "showlegend": true,
         "type": "histogram",
         "x": [
          "Above 100k",
          "Lower than 100k"
         ],
         "xaxis": "x",
         "y": {
          "bdata": "Eg0=",
          "dtype": "i1"
         },
         "yaxis": "y"
        },
        {
         "alignmentgroup": "True",
         "bingroup": "x",
         "histfunc": "sum",
         "hovertemplate": "model_year=1988<br>Mileage Odometer=%{x}<br>sum of Models=%{y}<extra></extra>",
         "legendgroup": "1988",
         "marker": {
          "color": "#FF9616",
          "pattern": {
           "shape": ""
          }
         },
         "name": "1988",
         "offsetgroup": "1988",
         "orientation": "v",
         "showlegend": true,
         "type": "histogram",
         "x": [
          "Above 100k",
          "Lower than 100k"
         ],
         "xaxis": "x",
         "y": {
          "bdata": "EhY=",
          "dtype": "i1"
         },
         "yaxis": "y"
        },
        {
         "alignmentgroup": "True",
         "bingroup": "x",
         "histfunc": "sum",
         "hovertemplate": "model_year=1989<br>Mileage Odometer=%{x}<br>sum of Models=%{y}<extra></extra>",
         "legendgroup": "1989",
         "marker": {
          "color": "#479B55",
          "pattern": {
           "shape": ""
          }
         },
         "name": "1989",
         "offsetgroup": "1989",
         "orientation": "v",
         "showlegend": true,
         "type": "histogram",
         "x": [
          "Above 100k",
          "Lower than 100k"
         ],
         "xaxis": "x",
         "y": {
          "bdata": "HR0=",
          "dtype": "i1"
         },
         "yaxis": "y"
        },
        {
         "alignmentgroup": "True",
         "bingroup": "x",
         "histfunc": "sum",
         "hovertemplate": "model_year=1990<br>Mileage Odometer=%{x}<br>sum of Models=%{y}<extra></extra>",
         "legendgroup": "1990",
         "marker": {
          "color": "#EEA6FB",
          "pattern": {
           "shape": ""
          }
         },
         "name": "1990",
         "offsetgroup": "1990",
         "orientation": "v",
         "showlegend": true,
         "type": "histogram",
         "x": [
          "Above 100k",
          "Lower than 100k"
         ],
         "xaxis": "x",
         "y": {
          "bdata": "JRU=",
          "dtype": "i1"
         },
         "yaxis": "y"
        },
        {
         "alignmentgroup": "True",
         "bingroup": "x",
         "histfunc": "sum",
         "hovertemplate": "model_year=1991<br>Mileage Odometer=%{x}<br>sum of Models=%{y}<extra></extra>",
         "legendgroup": "1991",
         "marker": {
          "color": "#DC587D",
          "pattern": {
           "shape": ""
          }
         },
         "name": "1991",
         "offsetgroup": "1991",
         "orientation": "v",
         "showlegend": true,
         "type": "histogram",
         "x": [
          "Above 100k",
          "Lower than 100k"
         ],
         "xaxis": "x",
         "y": {
          "bdata": "IhE=",
          "dtype": "i1"
         },
         "yaxis": "y"
        },
        {
         "alignmentgroup": "True",
         "bingroup": "x",
         "histfunc": "sum",
         "hovertemplate": "model_year=1992<br>Mileage Odometer=%{x}<br>sum of Models=%{y}<extra></extra>",
         "legendgroup": "1992",
         "marker": {
          "color": "#D626FF",
          "pattern": {
           "shape": ""
          }
         },
         "name": "1992",
         "offsetgroup": "1992",
         "orientation": "v",
         "showlegend": true,
         "type": "histogram",
         "x": [
          "Above 100k",
          "Lower than 100k"
         ],
         "xaxis": "x",
         "y": {
          "bdata": "JRQ=",
          "dtype": "i1"
         },
         "yaxis": "y"
        },
        {
         "alignmentgroup": "True",
         "bingroup": "x",
         "histfunc": "sum",
         "hovertemplate": "model_year=1993<br>Mileage Odometer=%{x}<br>sum of Models=%{y}<extra></extra>",
         "legendgroup": "1993",
         "marker": {
          "color": "#6E899C",
          "pattern": {
           "shape": ""
          }
         },
         "name": "1993",
         "offsetgroup": "1993",
         "orientation": "v",
         "showlegend": true,
         "type": "histogram",
         "x": [
          "Above 100k",
          "Lower than 100k"
         ],
         "xaxis": "x",
         "y": {
          "bdata": "SCQ=",
          "dtype": "i1"
         },
         "yaxis": "y"
        },
        {
         "alignmentgroup": "True",
         "bingroup": "x",
         "histfunc": "sum",
         "hovertemplate": "model_year=1994<br>Mileage Odometer=%{x}<br>sum of Models=%{y}<extra></extra>",
         "legendgroup": "1994",
         "marker": {
          "color": "#00B5F7",
          "pattern": {
           "shape": ""
          }
         },
         "name": "1994",
         "offsetgroup": "1994",
         "orientation": "v",
         "showlegend": true,
         "type": "histogram",
         "x": [
          "Above 100k",
          "Lower than 100k"
         ],
         "xaxis": "x",
         "y": {
          "bdata": "Siw=",
          "dtype": "i1"
         },
         "yaxis": "y"
        },
        {
         "alignmentgroup": "True",
         "bingroup": "x",
         "histfunc": "sum",
         "hovertemplate": "model_year=1995<br>Mileage Odometer=%{x}<br>sum of Models=%{y}<extra></extra>",
         "legendgroup": "1995",
         "marker": {
          "color": "#B68E00",
          "pattern": {
           "shape": ""
          }
         },
         "name": "1995",
         "offsetgroup": "1995",
         "orientation": "v",
         "showlegend": true,
         "type": "histogram",
         "x": [
          "Above 100k",
          "Lower than 100k"
         ],
         "xaxis": "x",
         "y": {
          "bdata": "fjo=",
          "dtype": "i1"
         },
         "yaxis": "y"
        },
        {
         "alignmentgroup": "True",
         "bingroup": "x",
         "histfunc": "sum",
         "hovertemplate": "model_year=1996<br>Mileage Odometer=%{x}<br>sum of Models=%{y}<extra></extra>",
         "legendgroup": "1996",
         "marker": {
          "color": "#C9FBE5",
          "pattern": {
           "shape": ""
          }
         },
         "name": "1996",
         "offsetgroup": "1996",
         "orientation": "v",
         "showlegend": true,
         "type": "histogram",
         "x": [
          "Above 100k",
          "Lower than 100k"
         ],
         "xaxis": "x",
         "y": {
          "bdata": "igAzAA==",
          "dtype": "i2"
         },
         "yaxis": "y"
        },
        {
         "alignmentgroup": "True",
         "bingroup": "x",
         "histfunc": "sum",
         "hovertemplate": "model_year=1997<br>Mileage Odometer=%{x}<br>sum of Models=%{y}<extra></extra>",
         "legendgroup": "1997",
         "marker": {
          "color": "#FF0092",
          "pattern": {
           "shape": ""
          }
         },
         "name": "1997",
         "offsetgroup": "1997",
         "orientation": "v",
         "showlegend": true,
         "type": "histogram",
         "x": [
          "Above 100k",
          "Lower than 100k"
         ],
         "xaxis": "x",
         "y": {
          "bdata": "8wBUAA==",
          "dtype": "i2"
         },
         "yaxis": "y"
        },
        {
         "alignmentgroup": "True",
         "bingroup": "x",
         "histfunc": "sum",
         "hovertemplate": "model_year=1998<br>Mileage Odometer=%{x}<br>sum of Models=%{y}<extra></extra>",
         "legendgroup": "1998",
         "marker": {
          "color": "#22FFA7",
          "pattern": {
           "shape": ""
          }
         },
         "name": "1998",
         "offsetgroup": "1998",
         "orientation": "v",
         "showlegend": true,
         "type": "histogram",
         "x": [
          "Above 100k",
          "Lower than 100k"
         ],
         "xaxis": "x",
         "y": {
          "bdata": "CQFxAA==",
          "dtype": "i2"
         },
         "yaxis": "y"
        },
        {
         "alignmentgroup": "True",
         "bingroup": "x",
         "histfunc": "sum",
         "hovertemplate": "model_year=1999<br>Mileage Odometer=%{x}<br>sum of Models=%{y}<extra></extra>",
         "legendgroup": "1999",
         "marker": {
          "color": "#E3EE9E",
          "pattern": {
           "shape": ""
          }
         },
         "name": "1999",
         "offsetgroup": "1999",
         "orientation": "v",
         "showlegend": true,
         "type": "histogram",
         "x": [
          "Above 100k",
          "Lower than 100k"
         ],
         "xaxis": "x",
         "y": {
          "bdata": "owF/AA==",
          "dtype": "i2"
         },
         "yaxis": "y"
        },
        {
         "alignmentgroup": "True",
         "bingroup": "x",
         "histfunc": "sum",
         "hovertemplate": "model_year=2000<br>Mileage Odometer=%{x}<br>sum of Models=%{y}<extra></extra>",
         "legendgroup": "2000",
         "marker": {
          "color": "#86CE00",
          "pattern": {
           "shape": ""
          }
         },
         "name": "2000",
         "offsetgroup": "2000",
         "orientation": "v",
         "showlegend": true,
         "type": "histogram",
         "x": [
          "Above 100k",
          "Lower than 100k"
         ],
         "xaxis": "x",
         "y": {
          "bdata": "/gHHAA==",
          "dtype": "i2"
         },
         "yaxis": "y"
        },
        {
         "alignmentgroup": "True",
         "bingroup": "x",
         "histfunc": "sum",
         "hovertemplate": "model_year=2001<br>Mileage Odometer=%{x}<br>sum of Models=%{y}<extra></extra>",
         "legendgroup": "2001",
         "marker": {
          "color": "#BC7196",
          "pattern": {
           "shape": ""
          }
         },
         "name": "2001",
         "offsetgroup": "2001",
         "orientation": "v",
         "showlegend": true,
         "type": "histogram",
         "x": [
          "Above 100k",
          "Lower than 100k"
         ],
         "xaxis": "x",
         "y": {
          "bdata": "gALNAA==",
          "dtype": "i2"
         },
         "yaxis": "y"
        },
        {
         "alignmentgroup": "True",
         "bingroup": "x",
         "histfunc": "sum",
         "hovertemplate": "model_year=2002<br>Mileage Odometer=%{x}<br>sum of Models=%{y}<extra></extra>",
         "legendgroup": "2002",
         "marker": {
          "color": "#7E7DCD",
          "pattern": {
           "shape": ""
          }
         },
         "name": "2002",
         "offsetgroup": "2002",
         "orientation": "v",
         "showlegend": true,
         "type": "histogram",
         "x": [
          "Above 100k",
          "Lower than 100k"
         ],
         "xaxis": "x",
         "y": {
          "bdata": "3gIvAQ==",
          "dtype": "i2"
         },
         "yaxis": "y"
        },
        {
         "alignmentgroup": "True",
         "bingroup": "x",
         "histfunc": "sum",
         "hovertemplate": "model_year=2003<br>Mileage Odometer=%{x}<br>sum of Models=%{y}<extra></extra>",
         "legendgroup": "2003",
         "marker": {
          "color": "#FC6955",
          "pattern": {
           "shape": ""
          }
         },
         "name": "2003",
         "offsetgroup": "2003",
         "orientation": "v",
         "showlegend": true,
         "type": "histogram",
         "x": [
          "Above 100k",
          "Lower than 100k"
         ],
         "xaxis": "x",
         "y": {
          "bdata": "IQR8AQ==",
          "dtype": "i2"
         },
         "yaxis": "y"
        },
        {
         "alignmentgroup": "True",
         "bingroup": "x",
         "histfunc": "sum",
         "hovertemplate": "model_year=2004<br>Mileage Odometer=%{x}<br>sum of Models=%{y}<extra></extra>",
         "legendgroup": "2004",
         "marker": {
          "color": "#E48F72",
          "pattern": {
           "shape": ""
          }
         },
         "name": "2004",
         "offsetgroup": "2004",
         "orientation": "v",
         "showlegend": true,
         "type": "histogram",
         "x": [
          "Above 100k",
          "Lower than 100k"
         ],
         "xaxis": "x",
         "y": {
          "bdata": "7QTNAQ==",
          "dtype": "i2"
         },
         "yaxis": "y"
        },
        {
         "alignmentgroup": "True",
         "bingroup": "x",
         "histfunc": "sum",
         "hovertemplate": "model_year=2005<br>Mileage Odometer=%{x}<br>sum of Models=%{y}<extra></extra>",
         "legendgroup": "2005",
         "marker": {
          "color": "#FD3216",
          "pattern": {
           "shape": ""
          }
         },
         "name": "2005",
         "offsetgroup": "2005",
         "orientation": "v",
         "showlegend": true,
         "type": "histogram",
         "x": [
          "Above 100k",
          "Lower than 100k"
         ],
         "xaxis": "x",
         "y": {
          "bdata": "iQVgAg==",
          "dtype": "i2"
         },
         "yaxis": "y"
        },
        {
         "alignmentgroup": "True",
         "bingroup": "x",
         "histfunc": "sum",
         "hovertemplate": "model_year=2006<br>Mileage Odometer=%{x}<br>sum of Models=%{y}<extra></extra>",
         "legendgroup": "2006",
         "marker": {
          "color": "#00FE35",
          "pattern": {
           "shape": ""
          }
         },
         "name": "2006",
         "offsetgroup": "2006",
         "orientation": "v",
         "showlegend": true,
         "type": "histogram",
         "x": [
          "Above 100k",
          "Lower than 100k"
         ],
         "xaxis": "x",
         "y": {
          "bdata": "XwZbAg==",
          "dtype": "i2"
         },
         "yaxis": "y"
        },
        {
         "alignmentgroup": "True",
         "bingroup": "x",
         "histfunc": "sum",
         "hovertemplate": "model_year=2007<br>Mileage Odometer=%{x}<br>sum of Models=%{y}<extra></extra>",
         "legendgroup": "2007",
         "marker": {
          "color": "#6A76FC",
          "pattern": {
           "shape": ""
          }
         },
         "name": "2007",
         "offsetgroup": "2007",
         "orientation": "v",
         "showlegend": true,
         "type": "histogram",
         "x": [
          "Above 100k",
          "Lower than 100k"
         ],
         "xaxis": "x",
         "y": {
          "bdata": "VQf+Ag==",
          "dtype": "i2"
         },
         "yaxis": "y"
        },
        {
         "alignmentgroup": "True",
         "bingroup": "x",
         "histfunc": "sum",
         "hovertemplate": "model_year=2008<br>Mileage Odometer=%{x}<br>sum of Models=%{y}<extra></extra>",
         "legendgroup": "2008",
         "marker": {
          "color": "#FED4C4",
          "pattern": {
           "shape": ""
          }
         },
         "name": "2008",
         "offsetgroup": "2008",
         "orientation": "v",
         "showlegend": true,
         "type": "histogram",
         "x": [
          "Above 100k",
          "Lower than 100k"
         ],
         "xaxis": "x",
         "y": {
          "bdata": "7gd+Aw==",
          "dtype": "i2"
         },
         "yaxis": "y"
        },
        {
         "alignmentgroup": "True",
         "bingroup": "x",
         "histfunc": "sum",
         "hovertemplate": "model_year=2009<br>Mileage Odometer=%{x}<br>sum of Models=%{y}<extra></extra>",
         "legendgroup": "2009",
         "marker": {
          "color": "#FE00CE",
          "pattern": {
           "shape": ""
          }
         },
         "name": "2009",
         "offsetgroup": "2009",
         "orientation": "v",
         "showlegend": true,
         "type": "histogram",
         "x": [
          "Above 100k",
          "Lower than 100k"
         ],
         "xaxis": "x",
         "y": {
          "bdata": "YQW+Ag==",
          "dtype": "i2"
         },
         "yaxis": "y"
        },
        {
         "alignmentgroup": "True",
         "bingroup": "x",
         "histfunc": "sum",
         "hovertemplate": "model_year=2010<br>Mileage Odometer=%{x}<br>sum of Models=%{y}<extra></extra>",
         "legendgroup": "2010",
         "marker": {
          "color": "#0DF9FF",
          "pattern": {
           "shape": ""
          }
         },
         "name": "2010",
         "offsetgroup": "2010",
         "orientation": "v",
         "showlegend": true,
         "type": "histogram",
         "x": [
          "Above 100k",
          "Lower than 100k"
         ],
         "xaxis": "x",
         "y": {
          "bdata": "4QaiAw==",
          "dtype": "i2"
         },
         "yaxis": "y"
        },
        {
         "alignmentgroup": "True",
         "bingroup": "x",
         "histfunc": "sum",
         "hovertemplate": "model_year=2011<br>Mileage Odometer=%{x}<br>sum of Models=%{y}<extra></extra>",
         "legendgroup": "2011",
         "marker": {
          "color": "#F6F926",
          "pattern": {
           "shape": ""
          }
         },
         "name": "2011",
         "offsetgroup": "2011",
         "orientation": "v",
         "showlegend": true,
         "type": "histogram",
         "x": [
          "Above 100k",
          "Lower than 100k"
         ],
         "xaxis": "x",
         "y": {
          "bdata": "QwjsBA==",
          "dtype": "i2"
         },
         "yaxis": "y"
        },
        {
         "alignmentgroup": "True",
         "bingroup": "x",
         "histfunc": "sum",
         "hovertemplate": "model_year=2012<br>Mileage Odometer=%{x}<br>sum of Models=%{y}<extra></extra>",
         "legendgroup": "2012",
         "marker": {
          "color": "#FF9616",
          "pattern": {
           "shape": ""
          }
         },
         "name": "2012",
         "offsetgroup": "2012",
         "orientation": "v",
         "showlegend": true,
         "type": "histogram",
         "x": [
          "Above 100k",
          "Lower than 100k"
         ],
         "xaxis": "x",
         "y": {
          "bdata": "7AagBg==",
          "dtype": "i2"
         },
         "yaxis": "y"
        },
        {
         "alignmentgroup": "True",
         "bingroup": "x",
         "histfunc": "sum",
         "hovertemplate": "model_year=2013<br>Mileage Odometer=%{x}<br>sum of Models=%{y}<extra></extra>",
         "legendgroup": "2013",
         "marker": {
          "color": "#479B55",
          "pattern": {
           "shape": ""
          }
         },
         "name": "2013",
         "offsetgroup": "2013",
         "orientation": "v",
         "showlegend": true,
         "type": "histogram",
         "x": [
          "Above 100k",
          "Lower than 100k"
         ],
         "xaxis": "x",
         "y": {
          "bdata": "ywUSCA==",
          "dtype": "i2"
         },
         "yaxis": "y"
        },
        {
         "alignmentgroup": "True",
         "bingroup": "x",
         "histfunc": "sum",
         "hovertemplate": "model_year=2014<br>Mileage Odometer=%{x}<br>sum of Models=%{y}<extra></extra>",
         "legendgroup": "2014",
         "marker": {
          "color": "#EEA6FB",
          "pattern": {
           "shape": ""
          }
         },
         "name": "2014",
         "offsetgroup": "2014",
         "orientation": "v",
         "showlegend": true,
         "type": "histogram",
         "x": [
          "Above 100k",
          "Lower than 100k"
         ],
         "xaxis": "x",
         "y": {
          "bdata": "ZAQUCQ==",
          "dtype": "i2"
         },
         "yaxis": "y"
        },
        {
         "alignmentgroup": "True",
         "bingroup": "x",
         "histfunc": "sum",
         "hovertemplate": "model_year=2015<br>Mileage Odometer=%{x}<br>sum of Models=%{y}<extra></extra>",
         "legendgroup": "2015",
         "marker": {
          "color": "#DC587D",
          "pattern": {
           "shape": ""
          }
         },
         "name": "2015",
         "offsetgroup": "2015",
         "orientation": "v",
         "showlegend": true,
         "type": "histogram",
         "x": [
          "Above 100k",
          "Lower than 100k"
         ],
         "xaxis": "x",
         "y": {
          "bdata": "IAPbCQ==",
          "dtype": "i2"
         },
         "yaxis": "y"
        },
        {
         "alignmentgroup": "True",
         "bingroup": "x",
         "histfunc": "sum",
         "hovertemplate": "model_year=2016<br>Mileage Odometer=%{x}<br>sum of Models=%{y}<extra></extra>",
         "legendgroup": "2016",
         "marker": {
          "color": "#D626FF",
          "pattern": {
           "shape": ""
          }
         },
         "name": "2016",
         "offsetgroup": "2016",
         "orientation": "v",
         "showlegend": true,
         "type": "histogram",
         "x": [
          "Above 100k",
          "Lower than 100k"
         ],
         "xaxis": "x",
         "y": {
          "bdata": "cgEYCg==",
          "dtype": "i2"
         },
         "yaxis": "y"
        },
        {
         "alignmentgroup": "True",
         "bingroup": "x",
         "histfunc": "sum",
         "hovertemplate": "model_year=2017<br>Mileage Odometer=%{x}<br>sum of Models=%{y}<extra></extra>",
         "legendgroup": "2017",
         "marker": {
          "color": "#6E899C",
          "pattern": {
           "shape": ""
          }
         },
         "name": "2017",
         "offsetgroup": "2017",
         "orientation": "v",
         "showlegend": true,
         "type": "histogram",
         "x": [
          "Above 100k",
          "Lower than 100k"
         ],
         "xaxis": "x",
         "y": {
          "bdata": "bAAHCQ==",
          "dtype": "i2"
         },
         "yaxis": "y"
        },
        {
         "alignmentgroup": "True",
         "bingroup": "x",
         "histfunc": "sum",
         "hovertemplate": "model_year=2018<br>Mileage Odometer=%{x}<br>sum of Models=%{y}<extra></extra>",
         "legendgroup": "2018",
         "marker": {
          "color": "#00B5F7",
          "pattern": {
           "shape": ""
          }
         },
         "name": "2018",
         "offsetgroup": "2018",
         "orientation": "v",
         "showlegend": true,
         "type": "histogram",
         "x": [
          "Above 100k",
          "Lower than 100k"
         ],
         "xaxis": "x",
         "y": {
          "bdata": "CwCGCA==",
          "dtype": "i2"
         },
         "yaxis": "y"
        },
        {
         "alignmentgroup": "True",
         "bingroup": "x",
         "histfunc": "sum",
         "hovertemplate": "model_year=2019<br>Mileage Odometer=%{x}<br>sum of Models=%{y}<extra></extra>",
         "legendgroup": "2019",
         "marker": {
          "color": "#B68E00",
          "pattern": {
           "shape": ""
          }
         },
         "name": "2019",
         "offsetgroup": "2019",
         "orientation": "v",
         "showlegend": true,
         "type": "histogram",
         "x": [
          "Above 100k",
          "Lower than 100k"
         ],
         "xaxis": "x",
         "y": {
          "bdata": "AQB7AQ==",
          "dtype": "i2"
         },
         "yaxis": "y"
        }
       ],
       "layout": {
        "barmode": "group",
        "legend": {
         "title": {
          "text": "model_year"
         },
         "tracegroupgap": 0
        },
        "margin": {
         "t": 60
        },
        "template": {
         "data": {
          "candlestick": [
           {
            "decreasing": {
             "line": {
              "color": "#000033"
             }
            },
            "increasing": {
             "line": {
              "color": "#000032"
             }
            },
            "type": "candlestick"
           }
          ],
          "contour": [
           {
            "colorscale": [
             [
              0,
              "#000011"
             ],
             [
              0.1111111111111111,
              "#000012"
             ],
             [
              0.2222222222222222,
              "#000013"
             ],
             [
              0.3333333333333333,
              "#000014"
             ],
             [
              0.4444444444444444,
              "#000015"
             ],
             [
              0.5555555555555556,
              "#000016"
             ],
             [
              0.6666666666666666,
              "#000017"
             ],
             [
              0.7777777777777778,
              "#000018"
             ],
             [
              0.8888888888888888,
              "#000019"
             ],
             [
              1,
              "#000020"
             ]
            ],
            "type": "contour"
           }
          ],
          "contourcarpet": [
           {
            "colorscale": [
             [
              0,
              "#000011"
             ],
             [
              0.1111111111111111,
              "#000012"
             ],
             [
              0.2222222222222222,
              "#000013"
             ],
             [
              0.3333333333333333,
              "#000014"
             ],
             [
              0.4444444444444444,
              "#000015"
             ],
             [
              0.5555555555555556,
              "#000016"
             ],
             [
              0.6666666666666666,
              "#000017"
             ],
             [
              0.7777777777777778,
              "#000018"
             ],
             [
              0.8888888888888888,
              "#000019"
             ],
             [
              1,
              "#000020"
             ]
            ],
            "type": "contourcarpet"
           }
          ],
          "heatmap": [
           {
            "colorscale": [
             [
              0,
              "#000011"
             ],
             [
              0.1111111111111111,
              "#000012"
             ],
             [
              0.2222222222222222,
              "#000013"
             ],
             [
              0.3333333333333333,
              "#000014"
             ],
             [
              0.4444444444444444,
              "#000015"
             ],
             [
              0.5555555555555556,
              "#000016"
             ],
             [
              0.6666666666666666,
              "#000017"
             ],
             [
              0.7777777777777778,
              "#000018"
             ],
             [
              0.8888888888888888,
              "#000019"
             ],
             [
              1,
              "#000020"
             ]
            ],
            "type": "heatmap"
           }
          ],
          "histogram2d": [
           {
            "colorscale": [
             [
              0,
              "#000011"
             ],
             [
              0.1111111111111111,
              "#000012"
             ],
             [
              0.2222222222222222,
              "#000013"
             ],
             [
              0.3333333333333333,
              "#000014"
             ],
             [
              0.4444444444444444,
              "#000015"
             ],
             [
              0.5555555555555556,
              "#000016"
             ],
             [
              0.6666666666666666,
              "#000017"
             ],
             [
              0.7777777777777778,
              "#000018"
             ],
             [
              0.8888888888888888,
              "#000019"
             ],
             [
              1,
              "#000020"
             ]
            ],
            "type": "histogram2d"
           }
          ],
          "icicle": [
           {
            "textfont": {
             "color": "white"
            },
            "type": "icicle"
           }
          ],
          "sankey": [
           {
            "textfont": {
             "color": "#000036"
            },
            "type": "sankey"
           }
          ],
          "scatter": [
           {
            "marker": {
             "line": {
              "width": 0
             }
            },
            "type": "scatter"
           }
          ],
          "table": [
           {
            "cells": {
             "fill": {
              "color": "#000038"
             },
             "font": {
              "color": "#000037"
             },
             "line": {
              "color": "#000039"
             }
            },
            "header": {
             "fill": {
              "color": "#000040"
             },
             "font": {
              "color": "#000036"
             },
             "line": {
              "color": "#000039"
             }
            },
            "type": "table"
           }
          ],
          "waterfall": [
           {
            "connector": {
             "line": {
              "color": "#000036",
              "width": 2
             }
            },
            "decreasing": {
             "marker": {
              "color": "#000033"
             }
            },
            "increasing": {
             "marker": {
              "color": "#000032"
             }
            },
            "totals": {
             "marker": {
              "color": "#000034"
             }
            },
            "type": "waterfall"
           }
          ]
         },
         "layout": {
          "coloraxis": {
           "colorscale": [
            [
             0,
             "#000011"
            ],
            [
             0.1111111111111111,
             "#000012"
            ],
            [
             0.2222222222222222,
             "#000013"
            ],
            [
             0.3333333333333333,
             "#000014"
            ],
            [
             0.4444444444444444,
             "#000015"
            ],
            [
             0.5555555555555556,
             "#000016"
            ],
            [
             0.6666666666666666,
             "#000017"
            ],
            [
             0.7777777777777778,
             "#000018"
            ],
            [
             0.8888888888888888,
             "#000019"
            ],
            [
             1,
             "#000020"
            ]
           ]
          },
          "colorscale": {
           "diverging": [
            [
             0,
             "#000021"
            ],
            [
             0.1,
             "#000022"
            ],
            [
             0.2,
             "#000023"
            ],
            [
             0.3,
             "#000024"
            ],
            [
             0.4,
             "#000025"
            ],
            [
             0.5,
             "#000026"
            ],
            [
             0.6,
             "#000027"
            ],
            [
             0.7,
             "#000028"
            ],
            [
             0.8,
             "#000029"
            ],
            [
             0.9,
             "#000030"
            ],
            [
             1,
             "#000031"
            ]
           ],
           "sequential": [
            [
             0,
             "#000011"
            ],
            [
             0.1111111111111111,
             "#000012"
            ],
            [
             0.2222222222222222,
             "#000013"
            ],
            [
             0.3333333333333333,
             "#000014"
            ],
            [
             0.4444444444444444,
             "#000015"
            ],
            [
             0.5555555555555556,
             "#000016"
            ],
            [
             0.6666666666666666,
             "#000017"
            ],
            [
             0.7777777777777778,
             "#000018"
            ],
            [
             0.8888888888888888,
             "#000019"
            ],
            [
             1,
             "#000020"
            ]
           ],
           "sequentialminus": [
            [
             0,
             "#000011"
            ],
            [
             0.1111111111111111,
             "#000012"
            ],
            [
             0.2222222222222222,
             "#000013"
            ],
            [
             0.3333333333333333,
             "#000014"
            ],
            [
             0.4444444444444444,
             "#000015"
            ],
            [
             0.5555555555555556,
             "#000016"
            ],
            [
             0.6666666666666666,
             "#000017"
            ],
            [
             0.7777777777777778,
             "#000018"
            ],
            [
             0.8888888888888888,
             "#000019"
            ],
            [
             1,
             "#000020"
            ]
           ]
          },
          "colorway": [
           "#000001",
           "#000002",
           "#000003",
           "#000004",
           "#000005",
           "#000006",
           "#000007",
           "#000008",
           "#000009",
           "#000010"
          ]
         }
        },
        "xaxis": {
         "anchor": "y",
         "domain": [
          0,
          1
         ],
         "title": {
          "text": "Mileage Odometer"
         }
        },
        "yaxis": {
         "anchor": "x",
         "domain": [
          0,
          1
         ],
         "title": {
          "text": "sum of Models"
         }
        }
       }
      }
     },
     "metadata": {},
     "output_type": "display_data"
    }
   ],
   "source": [
    "#filtering vehicle_info years from 1950 till 2020\n",
    "start_year = 1950\n",
    "end_year = 2020\n",
    "filtered_data = vehicles_info[(vehicles_info['model_year'] >= start_year) & (vehicles_info['model_year'] <= 2020)]\n",
    "#Histogram plot for odometers higher than a 100k and lower than 100k per year model.\n",
    "high_low_per_year = filtered_data.groupby(['model_year', 'h_l_mileage'])['model'].count().reset_index()\n",
    "high_low_per_year_hist = px.histogram(high_low_per_year,  \n",
    "                   x='h_l_mileage', \n",
    "                   y='model',\n",
    "                   color= 'model_year',\n",
    "                   barmode='group',\n",
    "                   color_discrete_sequence= px.colors.qualitative.Light24,\n",
    "                   labels= dict(h_l_mileage = 'Mileage Odometer', model = 'Models'))\n",
    "high_low_per_year_hist.show()"
   ]
  },
  {
   "cell_type": "code",
   "execution_count": null,
   "metadata": {},
   "outputs": [
    {
     "name": "stderr",
     "output_type": "stream",
     "text": [
      "2025-02-08 00:08:55.005 Thread 'MainThread': missing ScriptRunContext! This warning can be ignored when running in bare mode.\n",
      "2025-02-08 00:08:55.005 Thread 'MainThread': missing ScriptRunContext! This warning can be ignored when running in bare mode.\n",
      "2025-02-08 00:08:55.005 Thread 'MainThread': missing ScriptRunContext! This warning can be ignored when running in bare mode.\n",
      "2025-02-08 00:08:55.005 Thread 'MainThread': missing ScriptRunContext! This warning can be ignored when running in bare mode.\n"
     ]
    }
   ],
   "source": [
    "\n",
    "\n"
   ]
  }
 ],
 "metadata": {
  "kernelspec": {
   "display_name": "Python 3",
   "language": "python",
   "name": "python3"
  },
  "language_info": {
   "codemirror_mode": {
    "name": "ipython",
    "version": 3
   },
   "file_extension": ".py",
   "mimetype": "text/x-python",
   "name": "python",
   "nbconvert_exporter": "python",
   "pygments_lexer": "ipython3",
   "version": "3.11.5"
  }
 },
 "nbformat": 4,
 "nbformat_minor": 2
}
