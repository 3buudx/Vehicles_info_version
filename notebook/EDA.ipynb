{
 "cells": [
  {
   "cell_type": "code",
   "execution_count": 229,
   "metadata": {},
   "outputs": [],
   "source": [
    "import pandas as pd\n",
    "import plotly.express as plt\n",
    "import numpy as np\n",
    "import datetime as dt \n",
    "import streamlit as st"
   ]
  },
  {
   "cell_type": "code",
   "execution_count": 230,
   "metadata": {},
   "outputs": [
    {
     "name": "stdout",
     "output_type": "stream",
     "text": [
      "<class 'pandas.core.frame.DataFrame'>\n",
      "RangeIndex: 51525 entries, 0 to 51524\n",
      "Data columns (total 13 columns):\n",
      " #   Column        Non-Null Count  Dtype  \n",
      "---  ------        --------------  -----  \n",
      " 0   price         51525 non-null  int64  \n",
      " 1   model_year    47906 non-null  float64\n",
      " 2   model         51525 non-null  object \n",
      " 3   condition     51525 non-null  object \n",
      " 4   cylinders     46265 non-null  float64\n",
      " 5   fuel          51525 non-null  object \n",
      " 6   odometer      43633 non-null  float64\n",
      " 7   transmission  51525 non-null  object \n",
      " 8   type          51525 non-null  object \n",
      " 9   paint_color   42258 non-null  object \n",
      " 10  is_4wd        25572 non-null  float64\n",
      " 11  date_posted   51525 non-null  object \n",
      " 12  days_listed   51525 non-null  int64  \n",
      "dtypes: float64(4), int64(2), object(7)\n",
      "memory usage: 5.1+ MB\n"
     ]
    }
   ],
   "source": [
    "#Reading the Csv file & loading our DataFrame info\n",
    "vehicles_info = pd.read_csv('vehicles_us.csv')\n",
    "vehicles_info.info()"
   ]
  },
  {
   "cell_type": "markdown",
   "metadata": {},
   "source": [
    "1.1 Fixing Data"
   ]
  },
  {
   "cell_type": "code",
   "execution_count": 231,
   "metadata": {},
   "outputs": [
    {
     "name": "stdout",
     "output_type": "stream",
     "text": [
      "price               0\n",
      "model_year       3619\n",
      "model               0\n",
      "condition           0\n",
      "cylinders        5260\n",
      "fuel                0\n",
      "odometer         7892\n",
      "transmission        0\n",
      "type                0\n",
      "paint_color      9267\n",
      "is_4wd          25953\n",
      "date_posted         0\n",
      "days_listed         0\n",
      "dtype: int64\n",
      "<class 'pandas.core.frame.DataFrame'>\n",
      "RangeIndex: 51525 entries, 0 to 51524\n",
      "Data columns (total 13 columns):\n",
      " #   Column        Non-Null Count  Dtype  \n",
      "---  ------        --------------  -----  \n",
      " 0   price         51525 non-null  int64  \n",
      " 1   model_year    51525 non-null  float64\n",
      " 2   model         51525 non-null  object \n",
      " 3   condition     51525 non-null  object \n",
      " 4   cylinders     51525 non-null  float64\n",
      " 5   fuel          51525 non-null  object \n",
      " 6   odometer      51525 non-null  float64\n",
      " 7   transmission  51525 non-null  object \n",
      " 8   type          51525 non-null  object \n",
      " 9   paint_color   51525 non-null  object \n",
      " 10  is_4wd        51525 non-null  float64\n",
      " 11  date_posted   51525 non-null  object \n",
      " 12  days_listed   51525 non-null  int64  \n",
      "dtypes: float64(4), int64(2), object(7)\n",
      "memory usage: 5.1+ MB\n"
     ]
    }
   ],
   "source": [
    "#Checking for missing and fill it \n",
    "print(vehicles_info.isna().sum())\n",
    "#Filling all the missing in vehicle_info DataFrame with 'No info!' in 'paint_color'.\n",
    "vehicles_info['paint_color'] = vehicles_info['paint_color'].fillna('No info!')\n",
    "#filling all numerical missing with 0 \n",
    "vehicles_info = vehicles_info.fillna(0)\n",
    "vehicles_info.info()\n"
   ]
  },
  {
   "cell_type": "code",
   "execution_count": 232,
   "metadata": {},
   "outputs": [
    {
     "name": "stdout",
     "output_type": "stream",
     "text": [
      "0\n"
     ]
    }
   ],
   "source": [
    "#Checking for duplicates in vehicle_info.\n",
    "print(vehicles_info.duplicated().sum())\n",
    "#We have ZERO duplicate in the DataFrame"
   ]
  },
  {
   "cell_type": "code",
   "execution_count": 233,
   "metadata": {},
   "outputs": [
    {
     "name": "stdout",
     "output_type": "stream",
     "text": [
      "<class 'pandas.core.frame.DataFrame'>\n",
      "RangeIndex: 51525 entries, 0 to 51524\n",
      "Data columns (total 13 columns):\n",
      " #   Column        Non-Null Count  Dtype  \n",
      "---  ------        --------------  -----  \n",
      " 0   price         51525 non-null  int64  \n",
      " 1   model_year    51525 non-null  float64\n",
      " 2   model         51525 non-null  object \n",
      " 3   condition     51525 non-null  object \n",
      " 4   cylinders     51525 non-null  float64\n",
      " 5   fuel          51525 non-null  object \n",
      " 6   odometer      51525 non-null  float64\n",
      " 7   transmission  51525 non-null  object \n",
      " 8   type          51525 non-null  object \n",
      " 9   paint_color   51525 non-null  object \n",
      " 10  is_4wd        51525 non-null  float64\n",
      " 11  date_posted   51525 non-null  object \n",
      " 12  days_listed   51525 non-null  int64  \n",
      "dtypes: float64(4), int64(2), object(7)\n",
      "memory usage: 5.1+ MB\n"
     ]
    }
   ],
   "source": [
    "#printing vehicle_info general information to check the Dtype for every column and switch it if needed.\n",
    "vehicles_info.info()\n",
    "#Switching 'model_year' and 'cylinders' and 'is_4wd'Dtype from object and float to int\n",
    "vehicles_info[['model_year', 'cylinders', 'is_4wd']] = vehicles_info[['model_year', 'cylinders', 'is_4wd']].astype(int)\n",
    "#switching 'date_posted' Dtype from object to DateTime\n",
    "vehicles_info['date_posted'] = pd.to_datetime(vehicles_info['date_posted'])\n",
    "\n"
   ]
  },
  {
   "cell_type": "markdown",
   "metadata": {},
   "source": [
    "2.2 Grouping by"
   ]
  },
  {
   "cell_type": "code",
   "execution_count": null,
   "metadata": {},
   "outputs": [
    {
     "name": "stdout",
     "output_type": "stream",
     "text": [
      "model                     model_year\n",
      "ford explorer             1996          13\n",
      "ford f350                 2006          12\n",
      "chevrolet corvette        1980          10\n",
      "chevrolet silverado 1500  2002          28\n",
      "ford f-250                1996           9\n",
      "gmc sierra                2017          14\n",
      "ford fusion               2006          21\n",
      "gmc sierra 2500hd         2015          39\n",
      "hyundai sonata            2010          21\n",
      "chevrolet impala          2017          20\n",
      "chevrolet suburban        1978           2\n",
      "kia sorento               2008          13\n",
      "gmc sierra                1995           3\n",
      "jeep cherokee             2009           1\n",
      "subaru forester           2012          23\n",
      "ford expedition           0             32\n",
      "ford taurus               2016           6\n",
      "toyota rav4               1996           1\n",
      "ford expedition           2007          31\n",
      "ford f350 super duty      2012          13\n",
      "Name: count, dtype: int64\n"
     ]
    }
   ],
   "source": [
    "car_model = vehicles_info.groupby('model')[''].value_counts()\n",
    "print(car_model.sample(20))"
   ]
  },
  {
   "cell_type": "markdown",
   "metadata": {},
   "source": [
    "2.2 visualization "
   ]
  },
  {
   "cell_type": "code",
   "execution_count": 235,
   "metadata": {},
   "outputs": [
    {
     "name": "stdout",
     "output_type": "stream",
     "text": [
      "               price    model_year       odometer\n",
      "count   51525.000000  51525.000000   51525.000000\n",
      "mean    12132.464920   1868.590121   97854.326948\n",
      "std     10040.803015    513.626950   72940.007970\n",
      "min         1.000000      0.000000       0.000000\n",
      "25%      5000.000000   2005.000000   35896.000000\n",
      "50%      9000.000000   2010.000000   99114.000000\n",
      "75%     16839.000000   2014.000000  146541.000000\n",
      "max    375000.000000   2019.000000  990000.000000\n"
     ]
    }
   ],
   "source": [
    "#printing numerical information about 'price', 'model_year', 'odometer'\n",
    "print(vehicles_info[['price', 'model_year', 'odometer']].describe())"
   ]
  },
  {
   "cell_type": "code",
   "execution_count": null,
   "metadata": {},
   "outputs": [],
   "source": []
  }
 ],
 "metadata": {
  "kernelspec": {
   "display_name": "Python 3",
   "language": "python",
   "name": "python3"
  },
  "language_info": {
   "codemirror_mode": {
    "name": "ipython",
    "version": 3
   },
   "file_extension": ".py",
   "mimetype": "text/x-python",
   "name": "python",
   "nbconvert_exporter": "python",
   "pygments_lexer": "ipython3",
   "version": "3.11.5"
  }
 },
 "nbformat": 4,
 "nbformat_minor": 2
}
